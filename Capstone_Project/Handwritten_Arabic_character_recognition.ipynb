{
 "cells": [
  {
   "cell_type": "markdown",
   "metadata": {},
   "source": [
    "# Project Overview\n",
    "OCR is a field of research in pattern recognition, artificial intelligence and computer vision.\n",
    "\n",
    "The field of optical character recognition (OCR) is very important, especially for offline handwritten recognition systems. Offline handwritten recognition systems are different from online handwritten recognition systems. The ability to deal with large amounts of script data in certain contexts will be invaluable. One example of these applications is the automation of the text transcription process applied on ancient documents considering the complex and irregular nature of writing. Arabic optical text recognition is experiencing slow development compared to other languages.\n",
    "\n",
    "Handwritten Arabic character recognition (HACR) has attracted considerable attention in recent decades. Researchers have made significant breakthroughs in this field with the rapid development of deep learning algorithms. Arabic is a kind of the Semitic language used in countries of the Middle East as a mother language of millions people.\n",
    "\n",
    "[Arabic handwriting](https://en.wikipedia.org/wiki/Islamic_calligraphy) fonts is an ancient art, and there are a lot of old books and scripts need to digitize. That what motivate researchers to build algorithms for this job to save ancient Arabic culture.\n",
    "\n",
    "# Problem Statement\n",
    "The Arabic alphabet characters consist of twenty-eight alphabet characters. There is also a big variety of Arabic handwriting fonts Arabs still use for now. Most of educated Arab people write two fonts Naskh and Reqaa and some times by mistake and fast writing they write a mix of both.\n",
    "Also Some characters are very confusable with similar character stroke.\n",
    "\n",
    "# Datasets\n",
    "The dataset Arabic Handwritten Characters Dataset from Kaggle you can find it [here](https://www.kaggle.com/mloey1/ahcd1).\n",
    "* The dataset is composed of 16,800 characters written by 60 participants, the age range is between 19 to 40 years, and 90% of participants are right-hand. Each participant wrote each character (from ’alef’ to ’yaa’) ten times.\n",
    "* The database is partitioned into two sets: a training set (13,440 characters to 480 images per class) and a test set (3,360 characters to 120 images per class).\n",
    "* Writers of training set and test set are exclusive.\n",
    "* Ordering of including writers to test set are randomized to make sure that writers of test set are not from a single institution (to ensure variability of the test set)."
   ]
  },
  {
   "cell_type": "code",
   "execution_count": 1,
   "metadata": {},
   "outputs": [],
   "source": [
    "import numpy as np\n",
    "import pandas as pd\n",
    "import matplotlib.pyplot as plt\n",
    "%matplotlib inline"
   ]
  },
  {
   "cell_type": "markdown",
   "metadata": {},
   "source": [
    "# Loading Data"
   ]
  },
  {
   "cell_type": "code",
   "execution_count": 3,
   "metadata": {},
   "outputs": [],
   "source": [
    "image_train = pd.read_csv(\"csvTrainImages 13440x1024.csv\", header=None)\n",
    "label_train = pd.read_csv(\"csvTrainLabel 13440x1.csv\", header=None)\n",
    "image_test = pd.read_csv(\"csvTestImages 3360x1024.csv\", header=None)\n",
    "label_test = pd.read_csv(\"csvTestLabel 3360x1.csv\", header=None)"
   ]
  },
  {
   "cell_type": "markdown",
   "metadata": {},
   "source": [
    "# Data Exploration"
   ]
  },
  {
   "cell_type": "code",
   "execution_count": 4,
   "metadata": {},
   "outputs": [
    {
     "name": "stdout",
     "output_type": "stream",
     "text": [
      "(13440, 1024)\n",
      "(3360, 1024)\n",
      "(13440, 1)\n",
      "(3360, 1)\n"
     ]
    }
   ],
   "source": [
    "print(image_train.shape)\n",
    "print(image_test.shape)\n",
    "print(label_train.shape)\n",
    "print(label_test.shape)"
   ]
  },
  {
   "cell_type": "code",
   "execution_count": 5,
   "metadata": {},
   "outputs": [
    {
     "name": "stdout",
     "output_type": "stream",
     "text": [
      "   0     1     2     3     4     5     6     7     8     9     ...   1014  \\\n",
      "0     0     0     0     0     0     0     0     0     0     0  ...      0   \n",
      "1     0     0     0     0     0     0     0     0     0     0  ...      0   \n",
      "2     0     0     0     0     0     0     0     0     0     0  ...      0   \n",
      "3     0     0     0     0     0     0     0     0     0     0  ...      0   \n",
      "4     0     0     0     0     0     0     0     0     0     0  ...      0   \n",
      "\n",
      "   1015  1016  1017  1018  1019  1020  1021  1022  1023  \n",
      "0     0     0     0     0     0     0     0     0     0  \n",
      "1     0     0     0     0     0     0     0     0     0  \n",
      "2     0     0     0     0     0     0     0     0     0  \n",
      "3     0     0     0     0     0     0     0     0     0  \n",
      "4     0     0     0     0     0     0     0     0     0  \n",
      "\n",
      "[5 rows x 1024 columns]\n"
     ]
    }
   ],
   "source": [
    "print(image_train.head())"
   ]
  },
  {
   "cell_type": "code",
   "execution_count": 6,
   "metadata": {},
   "outputs": [
    {
     "name": "stdout",
     "output_type": "stream",
     "text": [
      "max =  255 \t  min =  0\n"
     ]
    }
   ],
   "source": [
    "print('max = ', np.max(image_train.max()),\"\\t\",\" min = \", np.min(image_train.min()))"
   ]
  },
  {
   "cell_type": "code",
   "execution_count": 7,
   "metadata": {},
   "outputs": [
    {
     "name": "stdout",
     "output_type": "stream",
     "text": [
      "   0\n",
      "0  1\n",
      "1  1\n",
      "2  1\n",
      "3  1\n",
      "4  1\n"
     ]
    }
   ],
   "source": [
    "print(label_train.head())"
   ]
  },
  {
   "cell_type": "code",
   "execution_count": 8,
   "metadata": {},
   "outputs": [
    {
     "data": {
      "text/html": [
       "<div>\n",
       "<style scoped>\n",
       "    .dataframe tbody tr th:only-of-type {\n",
       "        vertical-align: middle;\n",
       "    }\n",
       "\n",
       "    .dataframe tbody tr th {\n",
       "        vertical-align: top;\n",
       "    }\n",
       "\n",
       "    .dataframe thead th {\n",
       "        text-align: right;\n",
       "    }\n",
       "</style>\n",
       "<table border=\"1\" class=\"dataframe\">\n",
       "  <thead>\n",
       "    <tr style=\"text-align: right;\">\n",
       "      <th></th>\n",
       "      <th>0</th>\n",
       "    </tr>\n",
       "  </thead>\n",
       "  <tbody>\n",
       "    <tr>\n",
       "      <th>count</th>\n",
       "      <td>13440.000000</td>\n",
       "    </tr>\n",
       "    <tr>\n",
       "      <th>mean</th>\n",
       "      <td>14.500000</td>\n",
       "    </tr>\n",
       "    <tr>\n",
       "      <th>std</th>\n",
       "      <td>8.078048</td>\n",
       "    </tr>\n",
       "    <tr>\n",
       "      <th>min</th>\n",
       "      <td>1.000000</td>\n",
       "    </tr>\n",
       "    <tr>\n",
       "      <th>25%</th>\n",
       "      <td>7.750000</td>\n",
       "    </tr>\n",
       "    <tr>\n",
       "      <th>50%</th>\n",
       "      <td>14.500000</td>\n",
       "    </tr>\n",
       "    <tr>\n",
       "      <th>75%</th>\n",
       "      <td>21.250000</td>\n",
       "    </tr>\n",
       "    <tr>\n",
       "      <th>max</th>\n",
       "      <td>28.000000</td>\n",
       "    </tr>\n",
       "  </tbody>\n",
       "</table>\n",
       "</div>"
      ],
      "text/plain": [
       "                  0\n",
       "count  13440.000000\n",
       "mean      14.500000\n",
       "std        8.078048\n",
       "min        1.000000\n",
       "25%        7.750000\n",
       "50%       14.500000\n",
       "75%       21.250000\n",
       "max       28.000000"
      ]
     },
     "execution_count": 8,
     "metadata": {},
     "output_type": "execute_result"
    }
   ],
   "source": [
    "label_train.describe()"
   ]
  },
  {
   "cell_type": "code",
   "execution_count": 9,
   "metadata": {},
   "outputs": [
    {
     "name": "stderr",
     "output_type": "stream",
     "text": [
      "C:\\Users\\dell\\Anaconda3\\lib\\site-packages\\ipykernel_launcher.py:1: FutureWarning: Method .as_matrix will be removed in a future version. Use .values instead.\n",
      "  \"\"\"Entry point for launching an IPython kernel.\n",
      "C:\\Users\\dell\\Anaconda3\\lib\\site-packages\\ipykernel_launcher.py:3: FutureWarning: Method .as_matrix will be removed in a future version. Use .values instead.\n",
      "  This is separate from the ipykernel package so we can avoid doing imports until\n"
     ]
    }
   ],
   "source": [
    "x_train = image_train.as_matrix()\n",
    "y_train = np.array(label_train[0])\n",
    "x_test = image_test.as_matrix()\n",
    "y_test = np.array(label_test[0])"
   ]
  },
  {
   "cell_type": "code",
   "execution_count": 10,
   "metadata": {},
   "outputs": [
    {
     "name": "stdout",
     "output_type": "stream",
     "text": [
      "(13440, 1024)\n",
      "(13440,)\n",
      "(3360, 1024)\n",
      "(3360,)\n"
     ]
    }
   ],
   "source": [
    "print(x_train.shape)\n",
    "print(y_train.shape)\n",
    "print(x_test.shape)\n",
    "print(y_test.shape)"
   ]
  },
  {
   "cell_type": "markdown",
   "metadata": {},
   "source": [
    "# Exploratory Visualization"
   ]
  },
  {
   "cell_type": "markdown",
   "metadata": {},
   "source": [
    "## Visualize Random 20 Training Images"
   ]
  },
  {
   "cell_type": "code",
   "execution_count": 11,
   "metadata": {},
   "outputs": [],
   "source": [
    "arabic_labels = ['alef', 'baa', 'taa', 'thaa', 'jeem', 'haa', 'khaa', 'dal', 'thal',\n",
    "                'raa', 'zay', 'seen', 'sheen', 'sad', 'dad', 'ttaa', 'zaa', 'ain', \n",
    "                'ghain', 'faa', 'qaf', 'kaf', 'lam', 'meem', 'noon', 'haa', 'waw', 'yaa']\n",
    "arabic_letters = ['أ', 'ب', 'ت', 'ث', 'ج', 'ح', 'خ', 'د', 'ذ',\n",
    "                'ر', 'ز', 'س', 'ش', 'ص', 'ض', 'ط', 'ظ', 'ع', \n",
    "                'غ', 'ف', 'ق', 'ك', 'ل', 'م', 'ن', 'هـ', 'و', 'ي']"
   ]
  },
  {
   "cell_type": "code",
   "execution_count": 12,
   "metadata": {},
   "outputs": [
    {
     "data": {
      "image/png": "[encoded data removed]",
      "text/plain": [
       "<Figure size 720x216 with 20 Axes>"
      ]
     },
     "metadata": {
      "needs_background": "light"
     },
     "output_type": "display_data"
    }
   ],
   "source": [
    "random_array = np.random.randint(x_train.shape[0], size=(2,10))\n",
    "plt.figure(figsize=[10,3])\n",
    "for i in range(10):\n",
    "    plt.subplot(2,10,i+1)\n",
    "    a = int(y_train[random_array[0,i]]-1)\n",
    "    plt.title(arabic_labels[a] + '=' + arabic_letters[a])\n",
    "    plt.imshow(x_train[random_array[0,i]].reshape(32,32).squeeze().T)\n",
    "    plt.axis('off')\n",
    "    plt.subplot(2,10,i+11)\n",
    "    b = int(y_train[random_array[1,i]]-1)\n",
    "    plt.title(arabic_labels[b] + '=' + arabic_letters[b])\n",
    "    plt.imshow(x_train[random_array[1,i]].reshape(32,32).squeeze().T)\n",
    "    plt.axis('off')\n"
   ]
  },
  {
   "cell_type": "markdown",
   "metadata": {},
   "source": [
    "## View an Image in More Detail"
   ]
  },
  {
   "cell_type": "code",
   "execution_count": 14,
   "metadata": {},
   "outputs": [
    {
     "data": {
      "image/png": "[encoded data removed]",
      "text/plain": [
       "<Figure size 864x864 with 1 Axes>"
      ]
     },
     "metadata": {
      "needs_background": "light"
     },
     "output_type": "display_data"
    }
   ],
   "source": [
    "def visualize_input(img, ax):\n",
    "    ax.imshow(img, cmap='gray')\n",
    "    width, height = img.shape\n",
    "    thresh = img.max()/2.5\n",
    "    for x in range(width):\n",
    "        for y in range(height):\n",
    "            ax.annotate(str(round(img[x][y],2)), xy=(y,x),\n",
    "                        horizontalalignment='center',\n",
    "                        verticalalignment='center',\n",
    "                        color='white' if img[x][y]<thresh else 'black')\n",
    "fig = plt.figure(figsize = (12,12)) \n",
    "ax = fig.add_subplot(111)\n",
    "sample_img = x_train[random_array[1,0]]\n",
    "visualize_input(sample_img.reshape(32,32).squeeze().T, ax)"
   ]
  },
  {
   "cell_type": "code",
   "execution_count": 15,
   "metadata": {},
   "outputs": [
    {
     "data": {
      "image/png": "[encoded data removed]",
      "text/plain": [
       "<Figure size 432x288 with 1 Axes>"
      ]
     },
     "metadata": {
      "needs_background": "light"
     },
     "output_type": "display_data"
    }
   ],
   "source": [
    "plt.xlim((0,255))\n",
    "plt.hist(sample_img, range=(0,256), color='red', alpha=0.4)\n",
    "plt.xlabel('Pixels Values')\n",
    "plt.ylabel('Frequency')\n",
    "plt.title('Intensity Histogram')\n",
    "plt.show()"
   ]
  },
  {
   "cell_type": "markdown",
   "metadata": {},
   "source": [
    "# Data Preprocessing\n",
    "## Rescale the Images by Dividing Every Pixel in Every Image by 255"
   ]
  },
  {
   "cell_type": "code",
   "execution_count": 16,
   "metadata": {},
   "outputs": [
    {
     "name": "stderr",
     "output_type": "stream",
     "text": [
      "C:\\Users\\dell\\Anaconda3\\lib\\site-packages\\ipykernel_launcher.py:1: FutureWarning: Method .as_matrix will be removed in a future version. Use .values instead.\n",
      "  \"\"\"Entry point for launching an IPython kernel.\n",
      "C:\\Users\\dell\\Anaconda3\\lib\\site-packages\\ipykernel_launcher.py:2: FutureWarning: Method .as_matrix will be removed in a future version. Use .values instead.\n",
      "  \n"
     ]
    }
   ],
   "source": [
    "x_train = image_train.as_matrix()/255.0\n",
    "x_test = image_test.as_matrix()/255.0"
   ]
  },
  {
   "cell_type": "code",
   "execution_count": 17,
   "metadata": {},
   "outputs": [
    {
     "data": {
      "image/png": "[encoded data removed]",
      "text/plain": [
       "<Figure size 864x864 with 1 Axes>"
      ]
     },
     "metadata": {
      "needs_background": "light"
     },
     "output_type": "display_data"
    }
   ],
   "source": [
    "fig = plt.figure(figsize = (12,12)) \n",
    "ax = fig.add_subplot(111)\n",
    "sample_img = x_train[random_array[1,0]]\n",
    "visualize_input(sample_img.reshape(32,32).squeeze().T, ax)"
   ]
  },
  {
   "cell_type": "code",
   "execution_count": 18,
   "metadata": {},
   "outputs": [
    {
     "data": {
      "image/png": "[encoded data removed]",
      "text/plain": [
       "<Figure size 432x288 with 1 Axes>"
      ]
     },
     "metadata": {
      "needs_background": "light"
     },
     "output_type": "display_data"
    }
   ],
   "source": [
    "plt.hist(sample_img, color='red', alpha=0.4)\n",
    "plt.xlabel('Pixels Values')\n",
    "plt.ylabel('Frequency')\n",
    "plt.title('Intensity Histogram')\n",
    "plt.show()"
   ]
  },
  {
   "cell_type": "markdown",
   "metadata": {},
   "source": [
    "## Normalize Images"
   ]
  },
  {
   "cell_type": "code",
   "execution_count": 19,
   "metadata": {},
   "outputs": [],
   "source": [
    "from sklearn.preprocessing import normalize\n",
    "x_train = normalize(x_train)\n",
    "x_test = normalize(x_test)"
   ]
  },
  {
   "cell_type": "code",
   "execution_count": 20,
   "metadata": {},
   "outputs": [
    {
     "data": {
      "image/png": "[encoded data removed]",
      "text/plain": [
       "<Figure size 864x864 with 1 Axes>"
      ]
     },
     "metadata": {
      "needs_background": "light"
     },
     "output_type": "display_data"
    }
   ],
   "source": [
    "fig = plt.figure(figsize = (12,12)) \n",
    "ax = fig.add_subplot(111)\n",
    "sample_img = x_train[random_array[1,0]]\n",
    "visualize_input(sample_img.reshape(32,32).squeeze().T, ax)"
   ]
  },
  {
   "cell_type": "code",
   "execution_count": 21,
   "metadata": {},
   "outputs": [
    {
     "data": {
      "image/png": "[encoded data removed]",
      "text/plain": [
       "<Figure size 432x288 with 1 Axes>"
      ]
     },
     "metadata": {
      "needs_background": "light"
     },
     "output_type": "display_data"
    }
   ],
   "source": [
    "plt.hist(sample_img, color='red', alpha=0.4)\n",
    "plt.xlabel('Pixels Values')\n",
    "plt.ylabel('Frequency')\n",
    "plt.title('Intensity Histogram')\n",
    "plt.show()"
   ]
  },
  {
   "cell_type": "markdown",
   "metadata": {},
   "source": [
    "## Dimensionality Reduction\n",
    "### PCA"
   ]
  },
  {
   "cell_type": "code",
   "execution_count": 22,
   "metadata": {},
   "outputs": [],
   "source": [
    "n_components = 60\n",
    "from sklearn.decomposition import PCA\n",
    "pca = PCA(n_components=n_components, svd_solver='randomized', whiten=True).fit(x_train)\n",
    "x_train_pca = pca.transform(x_train)\n",
    "x_test_pca = pca.transform(x_test)"
   ]
  },
  {
   "cell_type": "markdown",
   "metadata": {},
   "source": [
    "# Implementation"
   ]
  },
  {
   "cell_type": "code",
   "execution_count": 23,
   "metadata": {},
   "outputs": [],
   "source": [
    "from sklearn.metrics import accuracy_score\n",
    "def get_accuracy (clf, xtrain, ytrain, xtest, ytest):\n",
    "    clf.fit(xtrain, ytrain)\n",
    "    pred = clf.predict(xtest)\n",
    "    acc = accuracy_score(ytest, pred)*100\n",
    "    print('Test accuracy: %.4f%%' % acc)\n",
    "    return acc"
   ]
  },
  {
   "cell_type": "code",
   "execution_count": 24,
   "metadata": {},
   "outputs": [],
   "source": [
    "# Empty dictionary to save accuracy values\n",
    "accuracy_values = {}"
   ]
  },
  {
   "cell_type": "markdown",
   "metadata": {},
   "source": [
    "## SVC\n",
    "### Grid Search"
   ]
  },
  {
   "cell_type": "code",
   "execution_count": 25,
   "metadata": {},
   "outputs": [
    {
     "name": "stdout",
     "output_type": "stream",
     "text": [
      "Fitting the classifier to the training set\n"
     ]
    },
    {
     "name": "stderr",
     "output_type": "stream",
     "text": [
      "C:\\Users\\dell\\Anaconda3\\lib\\site-packages\\sklearn\\model_selection\\_split.py:2053: FutureWarning: You should specify a value for 'cv' instead of relying on the default value. The default value will change from 3 to 5 in version 0.22.\n",
      "  warnings.warn(CV_WARNING, FutureWarning)\n",
      "[Parallel(n_jobs=4)]: Using backend LokyBackend with 4 concurrent workers.\n"
     ]
    },
    {
     "name": "stdout",
     "output_type": "stream",
     "text": [
      "Fitting 3 folds for each of 30 candidates, totalling 90 fits\n"
     ]
    },
    {
     "name": "stderr",
     "output_type": "stream",
     "text": [
      "[Parallel(n_jobs=4)]: Done  42 tasks      | elapsed: 10.3min\n",
      "[Parallel(n_jobs=4)]: Done  90 out of  90 | elapsed: 24.4min finished\n"
     ]
    },
    {
     "name": "stdout",
     "output_type": "stream",
     "text": [
      "Best estimator found by grid search:\n",
      "SVC(C=1000.0, cache_size=200, class_weight='balanced', coef0=0.0,\n",
      "  decision_function_shape='ovr', degree=3, gamma=0.01, kernel='rbf',\n",
      "  max_iter=-1, probability=False, random_state=42, shrinking=True,\n",
      "  tol=0.001, verbose=False)\n"
     ]
    }
   ],
   "source": [
    "# Train a SVM classification model\n",
    "from sklearn.svm import SVC\n",
    "from sklearn.model_selection import GridSearchCV\n",
    "print(\"Fitting the classifier to the training set\")\n",
    "param_grid = {'C': [1e3, 5e3, 1e4, 5e4, 1e5],\n",
    "              'gamma': [0.0001, 0.0005, 0.001, 0.005, 0.01, 0.1], }\n",
    "clf = GridSearchCV(SVC(kernel='rbf', class_weight='balanced', random_state=42), param_grid, n_jobs=4, verbose=1 )\n",
    "clf = clf.fit(x_train_pca, y_train)\n",
    "print(\"Best estimator found by grid search:\")\n",
    "print(clf.best_estimator_)"
   ]
  },
  {
   "cell_type": "code",
   "execution_count": 26,
   "metadata": {},
   "outputs": [
    {
     "name": "stdout",
     "output_type": "stream",
     "text": [
      "Test accuracy: 73.8988%\n"
     ]
    }
   ],
   "source": [
    "from sklearn.svm import SVC\n",
    "clf_svc = SVC(C=1000.0, cache_size=200, class_weight='balanced', coef0=0.0,\n",
    "              decision_function_shape='ovr', degree=3, gamma=0.01, kernel='rbf',\n",
    "              max_iter=-1, probability=False, random_state=42, shrinking=True,\n",
    "              tol=0.001, verbose=False)\n",
    "accuracy_values['SVM'] = get_accuracy(clf_svc,x_train_pca, y_train, x_test_pca, y_test)"
   ]
  },
  {
   "cell_type": "markdown",
   "metadata": {},
   "source": [
    "## Random Forest\n",
    "### Grid Search"
   ]
  },
  {
   "cell_type": "code",
   "execution_count": 22,
   "metadata": {},
   "outputs": [
    {
     "name": "stdout",
     "output_type": "stream",
     "text": [
      "Fitting the classifier to the training set\n",
      "Fitting 3 folds for each of 405 candidates, totalling 1215 fits\n"
     ]
    },
    {
     "name": "stderr",
     "output_type": "stream",
     "text": [
      "[Parallel(n_jobs=4)]: Done  42 tasks      | elapsed:   18.8s\n",
      "[Parallel(n_jobs=4)]: Done 192 tasks      | elapsed:  1.6min\n",
      "[Parallel(n_jobs=4)]: Done 442 tasks      | elapsed:  5.1min\n",
      "[Parallel(n_jobs=4)]: Done 792 tasks      | elapsed: 11.4min\n",
      "[Parallel(n_jobs=4)]: Done 1215 out of 1215 | elapsed: 19.9min finished\n"
     ]
    },
    {
     "name": "stdout",
     "output_type": "stream",
     "text": [
      "Best estimator found by grid search:\n",
      "RandomForestClassifier(bootstrap=True, class_weight=None, criterion='gini',\n",
      "            max_depth=23, max_features='auto', max_leaf_nodes=None,\n",
      "            min_impurity_decrease=0.0, min_impurity_split=None,\n",
      "            min_samples_leaf=1, min_samples_split=2,\n",
      "            min_weight_fraction_leaf=0.0, n_estimators=38, n_jobs=1,\n",
      "            oob_score=False, random_state=42, verbose=0, warm_start=False)\n"
     ]
    }
   ],
   "source": [
    "from sklearn.ensemble import RandomForestClassifier\n",
    "from sklearn.model_selection import GridSearchCV\n",
    "print(\"Fitting the classifier to the training set\")\n",
    "param_grid = {'n_estimators':list(range(10,40,2)),\n",
    "              'max_depth':list(range(3,30)), }\n",
    "clf = GridSearchCV(RandomForestClassifier(random_state=42), param_grid, n_jobs=4, verbose=1)\n",
    "clf = clf.fit(x_train_pca, y_train)\n",
    "print(\"Best estimator found by grid search:\")\n",
    "print(clf.best_estimator_)"
   ]
  },
  {
   "cell_type": "code",
   "execution_count": 25,
   "metadata": {},
   "outputs": [
    {
     "name": "stdout",
     "output_type": "stream",
     "text": [
      "Test accuracy: 53.6012%\n"
     ]
    }
   ],
   "source": [
    "from sklearn.ensemble import RandomForestClassifier\n",
    "clf_R_forest = RandomForestClassifier(bootstrap=True, class_weight=None, criterion='gini',\n",
    "            max_depth=23, max_features='auto', max_leaf_nodes=None,\n",
    "            min_impurity_decrease=0.0, min_impurity_split=None,\n",
    "            min_samples_leaf=1, min_samples_split=2,\n",
    "            min_weight_fraction_leaf=0.0, n_estimators=38, n_jobs=1,\n",
    "            oob_score=False, random_state=42, verbose=0, warm_start=False)\n",
    "accuracy_values['Random Forest'] = get_accuracy(clf_R_forest,x_train_pca, y_train, x_test_pca, y_test)"
   ]
  },
  {
   "cell_type": "markdown",
   "metadata": {},
   "source": [
    "## AdaBoost\n",
    "### Grid Search"
   ]
  },
  {
   "cell_type": "code",
   "execution_count": 24,
   "metadata": {},
   "outputs": [
    {
     "name": "stdout",
     "output_type": "stream",
     "text": [
      "Fitting the classifier to the training set\n",
      "Fitting 3 folds for each of 15 candidates, totalling 45 fits\n"
     ]
    },
    {
     "name": "stderr",
     "output_type": "stream",
     "text": [
      "[Parallel(n_jobs=4)]: Done  45 out of  45 | elapsed:  1.3min finished\n"
     ]
    },
    {
     "name": "stdout",
     "output_type": "stream",
     "text": [
      "Best estimator found by grid search:\n",
      "AdaBoostClassifier(algorithm='SAMME.R', base_estimator=None,\n",
      "          learning_rate=1.0, n_estimators=38, random_state=42)\n"
     ]
    }
   ],
   "source": [
    "from sklearn.ensemble import AdaBoostClassifier\n",
    "from sklearn.model_selection import GridSearchCV\n",
    "print(\"Fitting the classifier to the training set\")\n",
    "param_grid = {'n_estimators':list(range(10,40,2)), }\n",
    "clf = GridSearchCV(AdaBoostClassifier(random_state=42), param_grid, n_jobs=4, verbose=1)\n",
    "clf = clf.fit(x_train_pca, y_train)\n",
    "print(\"Best estimator found by grid search:\")\n",
    "print(clf.best_estimator_)"
   ]
  },
  {
   "cell_type": "code",
   "execution_count": 26,
   "metadata": {},
   "outputs": [
    {
     "name": "stdout",
     "output_type": "stream",
     "text": [
      "Test accuracy: 15.7440%\n"
     ]
    }
   ],
   "source": [
    "from sklearn.ensemble import AdaBoostClassifier\n",
    "clf_ada = AdaBoostClassifier(algorithm='SAMME.R', base_estimator=None,\n",
    "          learning_rate=1.0, n_estimators=36, random_state=42)\n",
    "accuracy_values['AdaBoost'] = get_accuracy(clf_ada,x_train_pca, y_train, x_test_pca, y_test)"
   ]
  },
  {
   "cell_type": "markdown",
   "metadata": {},
   "source": [
    "## Decision Tree\n",
    "### Grid Search"
   ]
  },
  {
   "cell_type": "code",
   "execution_count": 26,
   "metadata": {},
   "outputs": [
    {
     "name": "stdout",
     "output_type": "stream",
     "text": [
      "Fitting the classifier to the training set\n",
      "Fitting 3 folds for each of 27 candidates, totalling 81 fits\n"
     ]
    },
    {
     "name": "stderr",
     "output_type": "stream",
     "text": [
      "[Parallel(n_jobs=3)]: Done  44 tasks      | elapsed:   18.4s\n",
      "[Parallel(n_jobs=3)]: Done  81 out of  81 | elapsed:   39.9s finished\n"
     ]
    },
    {
     "name": "stdout",
     "output_type": "stream",
     "text": [
      "Best estimator found by grid search:\n",
      "DecisionTreeClassifier(class_weight=None, criterion='gini', max_depth=29,\n",
      "            max_features=None, max_leaf_nodes=None,\n",
      "            min_impurity_decrease=0.0, min_impurity_split=None,\n",
      "            min_samples_leaf=1, min_samples_split=2,\n",
      "            min_weight_fraction_leaf=0.0, presort=False, random_state=42,\n",
      "            splitter='best')\n"
     ]
    }
   ],
   "source": [
    "from sklearn.tree import DecisionTreeClassifier\n",
    "from sklearn.model_selection import GridSearchCV\n",
    "print(\"Fitting the classifier to the training set\")\n",
    "param_grid = {'max_depth':list(range(3,30)), }\n",
    "clf = GridSearchCV(DecisionTreeClassifier(random_state=42), param_grid, n_jobs=3, verbose=1)\n",
    "clf = clf.fit(x_train_pca, y_train)\n",
    "print(\"Best estimator found by grid search:\")\n",
    "print(clf.best_estimator_)"
   ]
  },
  {
   "cell_type": "code",
   "execution_count": 27,
   "metadata": {},
   "outputs": [
    {
     "name": "stdout",
     "output_type": "stream",
     "text": [
      "Test accuracy: 31.5774%\n"
     ]
    }
   ],
   "source": [
    "from sklearn.tree import DecisionTreeClassifier\n",
    "clf_dtree = DecisionTreeClassifier(max_depth=29, random_state=75)\n",
    "accuracy_values['Decision Tree'] = get_accuracy(clf_dtree,x_train_pca, y_train, x_test_pca, y_test)"
   ]
  },
  {
   "cell_type": "markdown",
   "metadata": {},
   "source": [
    "# Deep Learning"
   ]
  },
  {
   "cell_type": "markdown",
   "metadata": {},
   "source": [
    "## Encode Categorical Integer Labels Using a One-Hot Scheme"
   ]
  },
  {
   "cell_type": "code",
   "execution_count": 23,
   "metadata": {},
   "outputs": [
    {
     "name": "stderr",
     "output_type": "stream",
     "text": [
      "/usr/local/lib/python3.5/dist-packages/h5py/__init__.py:36: FutureWarning: Conversion of the second argument of issubdtype from `float` to `np.floating` is deprecated. In future, it will be treated as `np.float64 == np.dtype(float).type`.\n",
      "  from ._conv import register_converters as _register_converters\n",
      "Using TensorFlow backend.\n"
     ]
    }
   ],
   "source": [
    "from keras.utils import np_utils\n",
    "\n",
    "# one-hot encode the labels\n",
    "y_train_encoded = np_utils.to_categorical(y_train-1, num_classes=28)\n",
    "y_test_encoded = np_utils.to_categorical(y_test-1, num_classes=28)"
   ]
  },
  {
   "cell_type": "code",
   "execution_count": 24,
   "metadata": {},
   "outputs": [
    {
     "data": {
      "text/plain": [
       "(13440, 28)"
      ]
     },
     "execution_count": 24,
     "metadata": {},
     "output_type": "execute_result"
    }
   ],
   "source": [
    "y_train_encoded.shape"
   ]
  },
  {
   "cell_type": "code",
   "execution_count": 25,
   "metadata": {},
   "outputs": [
    {
     "data": {
      "text/plain": [
       "array([1., 0., 0., 0., 0., 0., 0., 0., 0., 0., 0., 0., 0., 0., 0., 0., 0.,\n",
       "       0., 0., 0., 0., 0., 0., 0., 0., 0., 0., 0.])"
      ]
     },
     "execution_count": 25,
     "metadata": {},
     "output_type": "execute_result"
    }
   ],
   "source": [
    "y_train_encoded[0]"
   ]
  },
  {
   "cell_type": "markdown",
   "metadata": {},
   "source": [
    "## Reshape images data from row to 32 X 32"
   ]
  },
  {
   "cell_type": "code",
   "execution_count": 26,
   "metadata": {},
   "outputs": [],
   "source": [
    "x_train_reshape = x_train.reshape(x_train.shape[0], 32, 32)\n",
    "x_test_reshape = x_test.reshape(x_test.shape[0], 32, 32)"
   ]
  },
  {
   "cell_type": "code",
   "execution_count": 27,
   "metadata": {},
   "outputs": [
    {
     "name": "stdout",
     "output_type": "stream",
     "text": [
      "(32, 32)\n"
     ]
    },
    {
     "data": {
      "text/plain": [
       "array([[0., 0., 0., ..., 0., 0., 0.],\n",
       "       [0., 0., 0., ..., 0., 0., 0.],\n",
       "       [0., 0., 0., ..., 0., 0., 0.],\n",
       "       ...,\n",
       "       [0., 0., 0., ..., 0., 0., 0.],\n",
       "       [0., 0., 0., ..., 0., 0., 0.],\n",
       "       [0., 0., 0., ..., 0., 0., 0.]])"
      ]
     },
     "execution_count": 27,
     "metadata": {},
     "output_type": "execute_result"
    }
   ],
   "source": [
    "print(x_train_reshape[0].shape)\n",
    "x_train_reshape[0]"
   ]
  },
  {
   "cell_type": "code",
   "execution_count": 28,
   "metadata": {},
   "outputs": [
    {
     "data": {
      "text/plain": [
       "<matplotlib.image.AxesImage at 0x7fbb84147a20>"
      ]
     },
     "execution_count": 28,
     "metadata": {},
     "output_type": "execute_result"
    },
    {
     "data": {
      "image/png": "[encoded data removed]",
      "text/plain": [
       "<matplotlib.figure.Figure at 0x7fbb84129518>"
      ]
     },
     "metadata": {},
     "output_type": "display_data"
    }
   ],
   "source": [
    "plt.figure(figsize=(2,2))\n",
    "plt.imshow(x_train_reshape[0].squeeze().T)"
   ]
  },
  {
   "cell_type": "markdown",
   "metadata": {},
   "source": [
    "## Create and Configure Augmented Image Generator"
   ]
  },
  {
   "cell_type": "markdown",
   "metadata": {},
   "source": [
    "# MLP Model"
   ]
  },
  {
   "cell_type": "markdown",
   "metadata": {},
   "source": [
    "## Define the Model Architecture"
   ]
  },
  {
   "cell_type": "code",
   "execution_count": 39,
   "metadata": {},
   "outputs": [
    {
     "name": "stdout",
     "output_type": "stream",
     "text": [
      "_________________________________________________________________\n",
      "Layer (type)                 Output Shape              Param #   \n",
      "=================================================================\n",
      "flatten_2 (Flatten)          (None, 1024)              0         \n",
      "_________________________________________________________________\n",
      "dense_4 (Dense)              (None, 128)               131200    \n",
      "_________________________________________________________________\n",
      "dropout_3 (Dropout)          (None, 128)               0         \n",
      "_________________________________________________________________\n",
      "dense_5 (Dense)              (None, 64)                8256      \n",
      "_________________________________________________________________\n",
      "dropout_4 (Dropout)          (None, 64)                0         \n",
      "_________________________________________________________________\n",
      "dense_6 (Dense)              (None, 28)                1820      \n",
      "=================================================================\n",
      "Total params: 141,276\n",
      "Trainable params: 141,276\n",
      "Non-trainable params: 0\n",
      "_________________________________________________________________\n"
     ]
    }
   ],
   "source": [
    "from keras.models import Sequential\n",
    "from keras.layers import Dense, Dropout, Flatten\n",
    "\n",
    "# define the model\n",
    "model = Sequential()\n",
    "model.add(Flatten(input_shape=x_train_reshape.shape[1:]))\n",
    "model.add(Dense(128, activation='relu'))\n",
    "model.add(Dropout(0.2))\n",
    "model.add(Dense(64, activation='relu'))\n",
    "model.add(Dropout(0.2))\n",
    "model.add(Dense(28, activation='softmax'))\n",
    "\n",
    "# summarize the model\n",
    "model.summary()"
   ]
  },
  {
   "cell_type": "markdown",
   "metadata": {},
   "source": [
    "## Compile the Model"
   ]
  },
  {
   "cell_type": "code",
   "execution_count": 40,
   "metadata": {},
   "outputs": [],
   "source": [
    "# compile the model\n",
    "model.compile(loss='categorical_crossentropy', optimizer='Nadam', metrics=['accuracy'])"
   ]
  },
  {
   "cell_type": "markdown",
   "metadata": {},
   "source": [
    "## Calculate the Classification Accuracy on the Test Set (Before Training)"
   ]
  },
  {
   "cell_type": "code",
   "execution_count": 41,
   "metadata": {},
   "outputs": [
    {
     "name": "stdout",
     "output_type": "stream",
     "text": [
      "Test accuracy: 3.3036%\n"
     ]
    }
   ],
   "source": [
    "# evaluate test accuracy\n",
    "score = model.evaluate(x_test_reshape, y_test_encoded, verbose=0)\n",
    "accuracy = 100*score[1]\n",
    "\n",
    "# print test accuracy\n",
    "print('Test accuracy: %.4f%%' % accuracy)"
   ]
  },
  {
   "cell_type": "markdown",
   "metadata": {},
   "source": [
    "## Train the Model"
   ]
  },
  {
   "cell_type": "code",
   "execution_count": 42,
   "metadata": {},
   "outputs": [
    {
     "name": "stdout",
     "output_type": "stream",
     "text": [
      "Train on 10752 samples, validate on 2688 samples\n",
      "Epoch 1/60\n",
      "10624/10752 [============================>.] - ETA: 0s - loss: 2.9183 - acc: 0.1393\n",
      "Epoch 00001: val_loss improved from inf to 2.52676, saving model to HACR.model.best.hdf5\n",
      "10752/10752 [==============================] - 3s 248us/step - loss: 2.9126 - acc: 0.1401 - val_loss: 2.5268 - val_acc: 0.2712\n",
      "Epoch 2/60\n",
      "10496/10752 [============================>.] - ETA: 0s - loss: 2.2767 - acc: 0.2897\n",
      "Epoch 00002: val_loss improved from 2.52676 to 2.17460, saving model to HACR.model.best.hdf5\n",
      "10752/10752 [==============================] - 2s 211us/step - loss: 2.2734 - acc: 0.2918 - val_loss: 2.1746 - val_acc: 0.3549\n",
      "Epoch 3/60\n",
      "10624/10752 [============================>.] - ETA: 0s - loss: 1.9898 - acc: 0.3641\n",
      "Epoch 00003: val_loss improved from 2.17460 to 1.93288, saving model to HACR.model.best.hdf5\n",
      "10752/10752 [==============================] - 2s 216us/step - loss: 1.9898 - acc: 0.3642 - val_loss: 1.9329 - val_acc: 0.4014\n",
      "Epoch 4/60\n",
      "10496/10752 [============================>.] - ETA: 0s - loss: 1.7766 - acc: 0.4304\n",
      "Epoch 00004: val_loss improved from 1.93288 to 1.76368, saving model to HACR.model.best.hdf5\n",
      "10752/10752 [==============================] - 2s 214us/step - loss: 1.7724 - acc: 0.4306 - val_loss: 1.7637 - val_acc: 0.4457\n",
      "Epoch 5/60\n",
      "10368/10752 [===========================>..] - ETA: 0s - loss: 1.5993 - acc: 0.4696\n",
      "Epoch 00005: val_loss improved from 1.76368 to 1.62746, saving model to HACR.model.best.hdf5\n",
      "10752/10752 [==============================] - 2s 202us/step - loss: 1.5985 - acc: 0.4695 - val_loss: 1.6275 - val_acc: 0.4799\n",
      "Epoch 6/60\n",
      "10368/10752 [===========================>..] - ETA: 0s - loss: 1.4869 - acc: 0.4995\n",
      "Epoch 00006: val_loss improved from 1.62746 to 1.52764, saving model to HACR.model.best.hdf5\n",
      "10752/10752 [==============================] - 2s 212us/step - loss: 1.4857 - acc: 0.4997 - val_loss: 1.5276 - val_acc: 0.5171\n",
      "Epoch 7/60\n",
      "10368/10752 [===========================>..] - ETA: 0s - loss: 1.3834 - acc: 0.5364\n",
      "Epoch 00007: val_loss improved from 1.52764 to 1.45634, saving model to HACR.model.best.hdf5\n",
      "10752/10752 [==============================] - 2s 204us/step - loss: 1.3788 - acc: 0.5369 - val_loss: 1.4563 - val_acc: 0.5294\n",
      "Epoch 8/60\n",
      "10624/10752 [============================>.] - ETA: 0s - loss: 1.2892 - acc: 0.5651\n",
      "Epoch 00008: val_loss improved from 1.45634 to 1.37289, saving model to HACR.model.best.hdf5\n",
      "10752/10752 [==============================] - 2s 214us/step - loss: 1.2893 - acc: 0.5655 - val_loss: 1.3729 - val_acc: 0.5558\n",
      "Epoch 9/60\n",
      "10368/10752 [===========================>..] - ETA: 0s - loss: 1.2183 - acc: 0.5798\n",
      "Epoch 00009: val_loss improved from 1.37289 to 1.32340, saving model to HACR.model.best.hdf5\n",
      "10752/10752 [==============================] - 2s 206us/step - loss: 1.2209 - acc: 0.5778 - val_loss: 1.3234 - val_acc: 0.5685\n",
      "Epoch 10/60\n",
      "10624/10752 [============================>.] - ETA: 0s - loss: 1.1486 - acc: 0.6031\n",
      "Epoch 00010: val_loss improved from 1.32340 to 1.28540, saving model to HACR.model.best.hdf5\n",
      "10752/10752 [==============================] - 2s 212us/step - loss: 1.1475 - acc: 0.6031 - val_loss: 1.2854 - val_acc: 0.5800\n",
      "Epoch 11/60\n",
      "10368/10752 [===========================>..] - ETA: 0s - loss: 1.1066 - acc: 0.6145\n",
      "Epoch 00011: val_loss improved from 1.28540 to 1.22252, saving model to HACR.model.best.hdf5\n",
      "10752/10752 [==============================] - 2s 218us/step - loss: 1.1012 - acc: 0.6171 - val_loss: 1.2225 - val_acc: 0.5978\n",
      "Epoch 12/60\n",
      "10624/10752 [============================>.] - ETA: 0s - loss: 1.0366 - acc: 0.6393\n",
      "Epoch 00012: val_loss improved from 1.22252 to 1.21385, saving model to HACR.model.best.hdf5\n",
      "10752/10752 [==============================] - 2s 211us/step - loss: 1.0358 - acc: 0.6397 - val_loss: 1.2138 - val_acc: 0.5990\n",
      "Epoch 13/60\n",
      "10624/10752 [============================>.] - ETA: 0s - loss: 0.9926 - acc: 0.6544\n",
      "Epoch 00013: val_loss improved from 1.21385 to 1.21333, saving model to HACR.model.best.hdf5\n",
      "10752/10752 [==============================] - 2s 192us/step - loss: 0.9923 - acc: 0.6538 - val_loss: 1.2133 - val_acc: 0.6097\n",
      "Epoch 14/60\n",
      "10496/10752 [============================>.] - ETA: 0s - loss: 0.9455 - acc: 0.6634\n",
      "Epoch 00014: val_loss improved from 1.21333 to 1.17190, saving model to HACR.model.best.hdf5\n",
      "10752/10752 [==============================] - 2s 203us/step - loss: 0.9455 - acc: 0.6624 - val_loss: 1.1719 - val_acc: 0.6138\n",
      "Epoch 15/60\n",
      "10496/10752 [============================>.] - ETA: 0s - loss: 0.9119 - acc: 0.6838- ETA: 0s - loss: 0.9125 - acc: 0.683\n",
      "Epoch 00015: val_loss improved from 1.17190 to 1.14541, saving model to HACR.model.best.hdf5\n",
      "10752/10752 [==============================] - 2s 222us/step - loss: 0.9131 - acc: 0.6836 - val_loss: 1.1454 - val_acc: 0.6190\n",
      "Epoch 16/60\n",
      "10624/10752 [============================>.] - ETA: 0s - loss: 0.8923 - acc: 0.6913\n",
      "Epoch 00016: val_loss did not improve\n",
      "10752/10752 [==============================] - 2s 201us/step - loss: 0.8915 - acc: 0.6917 - val_loss: 1.1533 - val_acc: 0.6239\n",
      "Epoch 17/60\n",
      "10496/10752 [============================>.] - ETA: 0s - loss: 0.8470 - acc: 0.7085\n",
      "Epoch 00017: val_loss improved from 1.14541 to 1.13731, saving model to HACR.model.best.hdf5\n",
      "10752/10752 [==============================] - 2s 192us/step - loss: 0.8465 - acc: 0.7087 - val_loss: 1.1373 - val_acc: 0.6239\n",
      "Epoch 18/60\n",
      "10624/10752 [============================>.] - ETA: 0s - loss: 0.8360 - acc: 0.7074\n",
      "Epoch 00018: val_loss improved from 1.13731 to 1.13647, saving model to HACR.model.best.hdf5\n",
      "10752/10752 [==============================] - 2s 194us/step - loss: 0.8350 - acc: 0.7076 - val_loss: 1.1365 - val_acc: 0.6220\n",
      "Epoch 19/60\n",
      "10624/10752 [============================>.] - ETA: 0s - loss: 0.7852 - acc: 0.7259\n",
      "Epoch 00019: val_loss improved from 1.13647 to 1.11433, saving model to HACR.model.best.hdf5\n",
      "10752/10752 [==============================] - 2s 199us/step - loss: 0.7847 - acc: 0.7259 - val_loss: 1.1143 - val_acc: 0.6354\n",
      "Epoch 20/60\n",
      "10496/10752 [============================>.] - ETA: 0s - loss: 0.7658 - acc: 0.7300\n",
      "Epoch 00020: val_loss improved from 1.11433 to 1.10626, saving model to HACR.model.best.hdf5\n",
      "10752/10752 [==============================] - 2s 195us/step - loss: 0.7675 - acc: 0.7296 - val_loss: 1.1063 - val_acc: 0.6425\n",
      "Epoch 21/60\n",
      "10496/10752 [============================>.] - ETA: 0s - loss: 0.7410 - acc: 0.7389\n",
      "Epoch 00021: val_loss did not improve\n",
      "10752/10752 [==============================] - 2s 195us/step - loss: 0.7429 - acc: 0.7380 - val_loss: 1.1081 - val_acc: 0.6395\n",
      "Epoch 22/60\n",
      "10624/10752 [============================>.] - ETA: 0s - loss: 0.7352 - acc: 0.7460\n",
      "Epoch 00022: val_loss improved from 1.10626 to 1.10224, saving model to HACR.model.best.hdf5\n",
      "10752/10752 [==============================] - 2s 191us/step - loss: 0.7355 - acc: 0.7457 - val_loss: 1.1022 - val_acc: 0.6436\n",
      "Epoch 23/60\n",
      "10624/10752 [============================>.] - ETA: 0s - loss: 0.6964 - acc: 0.7482\n",
      "Epoch 00023: val_loss did not improve\n",
      "10752/10752 [==============================] - 2s 186us/step - loss: 0.6975 - acc: 0.7480 - val_loss: 1.1044 - val_acc: 0.6432\n",
      "Epoch 24/60\n",
      "10368/10752 [===========================>..] - ETA: 0s - loss: 0.6821 - acc: 0.7589\n",
      "Epoch 00024: val_loss did not improve\n",
      "10752/10752 [==============================] - 2s 187us/step - loss: 0.6828 - acc: 0.7585 - val_loss: 1.1218 - val_acc: 0.6410\n",
      "Epoch 25/60\n",
      "10496/10752 [============================>.] - ETA: 0s - loss: 0.6719 - acc: 0.7603\n",
      "Epoch 00025: val_loss did not improve\n",
      "10752/10752 [==============================] - 2s 186us/step - loss: 0.6711 - acc: 0.7606 - val_loss: 1.1117 - val_acc: 0.6525\n",
      "Epoch 26/60\n",
      "10496/10752 [============================>.] - ETA: 0s - loss: 0.6462 - acc: 0.7750\n",
      "Epoch 00026: val_loss improved from 1.10224 to 1.09374, saving model to HACR.model.best.hdf5\n",
      "10752/10752 [==============================] - 2s 196us/step - loss: 0.6465 - acc: 0.7748 - val_loss: 1.0937 - val_acc: 0.6644\n",
      "Epoch 27/60\n",
      "10496/10752 [============================>.] - ETA: 0s - loss: 0.6276 - acc: 0.7754\n",
      "Epoch 00027: val_loss did not improve\n",
      "10752/10752 [==============================] - 2s 184us/step - loss: 0.6293 - acc: 0.7749 - val_loss: 1.1142 - val_acc: 0.6589\n"
     ]
    },
    {
     "name": "stdout",
     "output_type": "stream",
     "text": [
      "Epoch 28/60\n",
      "10368/10752 [===========================>..] - ETA: 0s - loss: 0.6113 - acc: 0.7874\n",
      "Epoch 00028: val_loss did not improve\n",
      "10752/10752 [==============================] - 2s 179us/step - loss: 0.6115 - acc: 0.7875 - val_loss: 1.1053 - val_acc: 0.6656\n",
      "Epoch 29/60\n",
      "10496/10752 [============================>.] - ETA: 0s - loss: 0.6133 - acc: 0.7838\n",
      "Epoch 00029: val_loss improved from 1.09374 to 1.09327, saving model to HACR.model.best.hdf5\n",
      "10752/10752 [==============================] - 2s 184us/step - loss: 0.6117 - acc: 0.7850 - val_loss: 1.0933 - val_acc: 0.6607\n",
      "Epoch 30/60\n",
      "10624/10752 [============================>.] - ETA: 0s - loss: 0.5889 - acc: 0.7872\n",
      "Epoch 00030: val_loss did not improve\n",
      "10752/10752 [==============================] - 2s 216us/step - loss: 0.5924 - acc: 0.7859 - val_loss: 1.1155 - val_acc: 0.6574\n",
      "Epoch 31/60\n",
      "10368/10752 [===========================>..] - ETA: 0s - loss: 0.5773 - acc: 0.8010\n",
      "Epoch 00031: val_loss did not improve\n",
      "10752/10752 [==============================] - 2s 200us/step - loss: 0.5770 - acc: 0.8011 - val_loss: 1.1047 - val_acc: 0.6648\n",
      "Epoch 32/60\n",
      "10496/10752 [============================>.] - ETA: 0s - loss: 0.5674 - acc: 0.8006\n",
      "Epoch 00032: val_loss did not improve\n",
      "10752/10752 [==============================] - 2s 194us/step - loss: 0.5663 - acc: 0.8007 - val_loss: 1.1166 - val_acc: 0.6667\n",
      "Epoch 33/60\n",
      "10496/10752 [============================>.] - ETA: 0s - loss: 0.5552 - acc: 0.8061\n",
      "Epoch 00033: val_loss did not improve\n",
      "10752/10752 [==============================] - 2s 184us/step - loss: 0.5537 - acc: 0.8068 - val_loss: 1.1389 - val_acc: 0.6555\n",
      "Epoch 34/60\n",
      "10624/10752 [============================>.] - ETA: 0s - loss: 0.5449 - acc: 0.8051\n",
      "Epoch 00034: val_loss did not improve\n",
      "10752/10752 [==============================] - 2s 188us/step - loss: 0.5452 - acc: 0.8047 - val_loss: 1.1441 - val_acc: 0.6477\n",
      "Epoch 35/60\n",
      "10496/10752 [============================>.] - ETA: 0s - loss: 0.5297 - acc: 0.8103\n",
      "Epoch 00035: val_loss did not improve\n",
      "10752/10752 [==============================] - 2s 188us/step - loss: 0.5302 - acc: 0.8101 - val_loss: 1.1389 - val_acc: 0.6689\n",
      "Epoch 36/60\n",
      "10496/10752 [============================>.] - ETA: 0s - loss: 0.5199 - acc: 0.8161\n",
      "Epoch 00036: val_loss did not improve\n",
      "10752/10752 [==============================] - 2s 192us/step - loss: 0.5211 - acc: 0.8158 - val_loss: 1.1411 - val_acc: 0.6596\n",
      "Epoch 37/60\n",
      "10368/10752 [===========================>..] - ETA: 0s - loss: 0.5164 - acc: 0.8131\n",
      "Epoch 00037: val_loss did not improve\n",
      "10752/10752 [==============================] - 2s 187us/step - loss: 0.5188 - acc: 0.8121 - val_loss: 1.1401 - val_acc: 0.6652\n",
      "Epoch 38/60\n",
      "10624/10752 [============================>.] - ETA: 0s - loss: 0.4909 - acc: 0.8272\n",
      "Epoch 00038: val_loss did not improve\n",
      "10752/10752 [==============================] - 2s 186us/step - loss: 0.4905 - acc: 0.8272 - val_loss: 1.1409 - val_acc: 0.6656\n",
      "Epoch 39/60\n",
      "10368/10752 [===========================>..] - ETA: 0s - loss: 0.4936 - acc: 0.8248\n",
      "Epoch 00039: val_loss did not improve\n",
      "10752/10752 [==============================] - 2s 185us/step - loss: 0.4946 - acc: 0.8245 - val_loss: 1.1586 - val_acc: 0.6551\n",
      "Epoch 40/60\n",
      "10496/10752 [============================>.] - ETA: 0s - loss: 0.4806 - acc: 0.8276\n",
      "Epoch 00040: val_loss did not improve\n",
      "10752/10752 [==============================] - 2s 190us/step - loss: 0.4806 - acc: 0.8276 - val_loss: 1.1733 - val_acc: 0.6581\n",
      "Epoch 41/60\n",
      "10496/10752 [============================>.] - ETA: 0s - loss: 0.4785 - acc: 0.8344\n",
      "Epoch 00041: val_loss did not improve\n",
      "10752/10752 [==============================] - 2s 197us/step - loss: 0.4777 - acc: 0.8344 - val_loss: 1.1713 - val_acc: 0.6596\n",
      "Epoch 42/60\n",
      "10368/10752 [===========================>..] - ETA: 0s - loss: 0.4625 - acc: 0.8338\n",
      "Epoch 00042: val_loss did not improve\n",
      "10752/10752 [==============================] - 2s 184us/step - loss: 0.4639 - acc: 0.8334 - val_loss: 1.1994 - val_acc: 0.6499\n",
      "Epoch 43/60\n",
      "10496/10752 [============================>.] - ETA: 0s - loss: 0.4567 - acc: 0.8390\n",
      "Epoch 00043: val_loss did not improve\n",
      "10752/10752 [==============================] - 2s 186us/step - loss: 0.4583 - acc: 0.8384 - val_loss: 1.1939 - val_acc: 0.6585\n",
      "Epoch 44/60\n",
      "10496/10752 [============================>.] - ETA: 0s - loss: 0.4460 - acc: 0.8418\n",
      "Epoch 00044: val_loss did not improve\n",
      "10752/10752 [==============================] - 2s 185us/step - loss: 0.4494 - acc: 0.8407 - val_loss: 1.1872 - val_acc: 0.6652\n",
      "Epoch 45/60\n",
      "10368/10752 [===========================>..] - ETA: 0s - loss: 0.4330 - acc: 0.8487\n",
      "Epoch 00045: val_loss did not improve\n",
      "10752/10752 [==============================] - 2s 192us/step - loss: 0.4357 - acc: 0.8471 - val_loss: 1.2079 - val_acc: 0.6544\n",
      "Epoch 46/60\n",
      "10368/10752 [===========================>..] - ETA: 0s - loss: 0.4379 - acc: 0.8458\n",
      "Epoch 00046: val_loss did not improve\n",
      "10752/10752 [==============================] - 2s 189us/step - loss: 0.4407 - acc: 0.8453 - val_loss: 1.2001 - val_acc: 0.6622\n",
      "Epoch 47/60\n",
      "10624/10752 [============================>.] - ETA: 0s - loss: 0.4135 - acc: 0.8482\n",
      "Epoch 00047: val_loss did not improve\n",
      "10752/10752 [==============================] - 2s 185us/step - loss: 0.4147 - acc: 0.8479 - val_loss: 1.2082 - val_acc: 0.6574\n",
      "Epoch 48/60\n",
      "10624/10752 [============================>.] - ETA: 0s - loss: 0.4097 - acc: 0.8563\n",
      "Epoch 00048: val_loss did not improve\n",
      "10752/10752 [==============================] - 2s 187us/step - loss: 0.4117 - acc: 0.8558 - val_loss: 1.2261 - val_acc: 0.6589\n",
      "Epoch 49/60\n",
      "10624/10752 [============================>.] - ETA: 0s - loss: 0.4121 - acc: 0.8526\n",
      "Epoch 00049: val_loss did not improve\n",
      "10752/10752 [==============================] - 2s 186us/step - loss: 0.4123 - acc: 0.8523 - val_loss: 1.2370 - val_acc: 0.6600\n",
      "Epoch 50/60\n",
      "10496/10752 [============================>.] - ETA: 0s - loss: 0.3964 - acc: 0.8579\n",
      "Epoch 00050: val_loss did not improve\n",
      "10752/10752 [==============================] - 2s 188us/step - loss: 0.3978 - acc: 0.8573 - val_loss: 1.2261 - val_acc: 0.6600\n",
      "Epoch 51/60\n",
      "10496/10752 [============================>.] - ETA: 0s - loss: 0.4094 - acc: 0.8560\n",
      "Epoch 00051: val_loss did not improve\n",
      "10752/10752 [==============================] - 2s 185us/step - loss: 0.4097 - acc: 0.8559 - val_loss: 1.2154 - val_acc: 0.6629\n",
      "Epoch 52/60\n",
      "10368/10752 [===========================>..] - ETA: 0s - loss: 0.3984 - acc: 0.8548\n",
      "Epoch 00052: val_loss did not improve\n",
      "10752/10752 [==============================] - 2s 182us/step - loss: 0.3980 - acc: 0.8550 - val_loss: 1.2518 - val_acc: 0.6522\n",
      "Epoch 53/60\n",
      "10624/10752 [============================>.] - ETA: 0s - loss: 0.3914 - acc: 0.8618\n",
      "Epoch 00053: val_loss did not improve\n",
      "10752/10752 [==============================] - 2s 185us/step - loss: 0.3921 - acc: 0.8616 - val_loss: 1.2409 - val_acc: 0.6551\n",
      "Epoch 54/60\n",
      "10496/10752 [============================>.] - ETA: 0s - loss: 0.3782 - acc: 0.8678\n",
      "Epoch 00054: val_loss did not improve\n",
      "10752/10752 [==============================] - 2s 186us/step - loss: 0.3791 - acc: 0.8672 - val_loss: 1.2575 - val_acc: 0.6581\n",
      "Epoch 55/60\n",
      "10368/10752 [===========================>..] - ETA: 0s - loss: 0.3761 - acc: 0.8677\n",
      "Epoch 00055: val_loss did not improve\n",
      "10752/10752 [==============================] - 2s 190us/step - loss: 0.3740 - acc: 0.8688 - val_loss: 1.2816 - val_acc: 0.6626\n",
      "Epoch 56/60\n",
      "10496/10752 [============================>.] - ETA: 0s - loss: 0.3669 - acc: 0.8716\n",
      "Epoch 00056: val_loss did not improve\n",
      "10752/10752 [==============================] - 2s 188us/step - loss: 0.3685 - acc: 0.8707 - val_loss: 1.2583 - val_acc: 0.6570\n",
      "Epoch 57/60\n",
      "10624/10752 [============================>.] - ETA: 0s - loss: 0.3766 - acc: 0.8687\n",
      "Epoch 00057: val_loss did not improve\n",
      "10752/10752 [==============================] - 2s 189us/step - loss: 0.3772 - acc: 0.8684 - val_loss: 1.2813 - val_acc: 0.6581\n",
      "Epoch 58/60\n",
      "10496/10752 [============================>.] - ETA: 0s - loss: 0.3513 - acc: 0.8736\n",
      "Epoch 00058: val_loss did not improve\n",
      "10752/10752 [==============================] - 2s 188us/step - loss: 0.3523 - acc: 0.8731 - val_loss: 1.3115 - val_acc: 0.6559\n",
      "Epoch 59/60\n",
      "10496/10752 [============================>.] - ETA: 0s - loss: 0.3587 - acc: 0.8736\n",
      "Epoch 00059: val_loss did not improve\n",
      "10752/10752 [==============================] - 2s 182us/step - loss: 0.3605 - acc: 0.8729 - val_loss: 1.2934 - val_acc: 0.6589\n",
      "Epoch 60/60\n",
      "10496/10752 [============================>.] - ETA: 0s - loss: 0.3468 - acc: 0.8780\n",
      "Epoch 00060: val_loss did not improve\n",
      "10752/10752 [==============================] - 2s 187us/step - loss: 0.3460 - acc: 0.8788 - val_loss: 1.2870 - val_acc: 0.6600\n"
     ]
    }
   ],
   "source": [
    "from keras.callbacks import ModelCheckpoint   \n",
    "\n",
    "# train the model\n",
    "checkpointer = ModelCheckpoint(filepath='HACR.model.best.hdf5', \n",
    "                               verbose=1, save_best_only=True)\n",
    "hist = model.fit(x_train_reshape, y_train_encoded, batch_size=128, epochs=60,\n",
    "          validation_split=0.2, callbacks=[checkpointer],\n",
    "          verbose=1, shuffle=True)"
   ]
  },
  {
   "cell_type": "markdown",
   "metadata": {},
   "source": [
    "## Load the Model with the Best Classification Accuracy on the Validation Set"
   ]
  },
  {
   "cell_type": "code",
   "execution_count": 43,
   "metadata": {},
   "outputs": [],
   "source": [
    "# load the weights that yielded the best validation accuracy\n",
    "model.load_weights('HACR.model.best.hdf5')"
   ]
  },
  {
   "cell_type": "markdown",
   "metadata": {},
   "source": [
    "## Calculate the Classification Accuracy on the Test Set"
   ]
  },
  {
   "cell_type": "code",
   "execution_count": 44,
   "metadata": {},
   "outputs": [
    {
     "name": "stdout",
     "output_type": "stream",
     "text": [
      "Test accuracy: 71.6667%\n"
     ]
    }
   ],
   "source": [
    "# evaluate test accuracy\n",
    "score = model.evaluate(x_test_reshape, y_test_encoded, verbose=0)\n",
    "accuracy = 100*score[1]\n",
    "accuracy_values['MLP'] = accuracy\n",
    "# print test accuracy\n",
    "print('Test accuracy: %.4f%%' % accuracy)"
   ]
  },
  {
   "cell_type": "markdown",
   "metadata": {},
   "source": [
    "# CNN Model"
   ]
  },
  {
   "cell_type": "markdown",
   "metadata": {},
   "source": [
    "## Define the Model Architecture"
   ]
  },
  {
   "cell_type": "code",
   "execution_count": 29,
   "metadata": {},
   "outputs": [
    {
     "name": "stdout",
     "output_type": "stream",
     "text": [
      "_________________________________________________________________\n",
      "Layer (type)                 Output Shape              Param #   \n",
      "=================================================================\n",
      "conv1d_1 (Conv1D)            (None, 30, 128)           12416     \n",
      "_________________________________________________________________\n",
      "max_pooling1d_1 (MaxPooling1 (None, 15, 128)           0         \n",
      "_________________________________________________________________\n",
      "batch_normalization_1 (Batch (None, 15, 128)           512       \n",
      "_________________________________________________________________\n",
      "dropout_1 (Dropout)          (None, 15, 128)           0         \n",
      "_________________________________________________________________\n",
      "conv1d_2 (Conv1D)            (None, 15, 64)            24640     \n",
      "_________________________________________________________________\n",
      "max_pooling1d_2 (MaxPooling1 (None, 7, 64)             0         \n",
      "_________________________________________________________________\n",
      "batch_normalization_2 (Batch (None, 7, 64)             256       \n",
      "_________________________________________________________________\n",
      "flatten_1 (Flatten)          (None, 448)               0         \n",
      "_________________________________________________________________\n",
      "dense_1 (Dense)              (None, 128)               57472     \n",
      "_________________________________________________________________\n",
      "dropout_2 (Dropout)          (None, 128)               0         \n",
      "_________________________________________________________________\n",
      "batch_normalization_3 (Batch (None, 128)               512       \n",
      "_________________________________________________________________\n",
      "dense_2 (Dense)              (None, 64)                8256      \n",
      "_________________________________________________________________\n",
      "dropout_3 (Dropout)          (None, 64)                0         \n",
      "_________________________________________________________________\n",
      "dense_3 (Dense)              (None, 28)                1820      \n",
      "=================================================================\n",
      "Total params: 105,884\n",
      "Trainable params: 105,244\n",
      "Non-trainable params: 640\n",
      "_________________________________________________________________\n"
     ]
    }
   ],
   "source": [
    "from keras.models import Sequential\n",
    "from keras.layers import Dense, Dropout, Flatten\n",
    "from keras.layers import BatchNormalization\n",
    "from keras.layers import Conv1D, MaxPooling1D\n",
    "\n",
    "# define the model\n",
    "cnn_model = Sequential()\n",
    "cnn_model.add(Conv1D(filters=128, kernel_size=3, padding='valid', activation='relu', input_shape=(32, 32)))\n",
    "cnn_model.add(MaxPooling1D(pool_size=2))\n",
    "cnn_model.add(BatchNormalization())\n",
    "cnn_model.add(Dropout(0.5))\n",
    "cnn_model.add(Conv1D(filters=64, kernel_size=3, padding='same', activation='relu',))\n",
    "cnn_model.add(MaxPooling1D(pool_size=2))\n",
    "cnn_model.add(BatchNormalization())\n",
    "#cnn_model.add(Dropout(0.3))\n",
    "cnn_model.add(Flatten())\n",
    "cnn_model.add(Dense(128, activation='relu'))\n",
    "cnn_model.add(Dropout(0.2))\n",
    "cnn_model.add(BatchNormalization())\n",
    "cnn_model.add(Dense(64, activation='relu'))\n",
    "cnn_model.add(Dropout(0.2))\n",
    "cnn_model.add(Dense(28, activation='softmax'))\n",
    "\n",
    "# summarize the model\n",
    "cnn_model.summary()"
   ]
  },
  {
   "cell_type": "markdown",
   "metadata": {},
   "source": [
    "## Compile the Model"
   ]
  },
  {
   "cell_type": "code",
   "execution_count": 30,
   "metadata": {},
   "outputs": [],
   "source": [
    "# compile the model\n",
    "cnn_model.compile(loss='categorical_crossentropy', optimizer='Nadam', metrics=['accuracy'])"
   ]
  },
  {
   "cell_type": "markdown",
   "metadata": {},
   "source": [
    "## Train the Model"
   ]
  },
  {
   "cell_type": "code",
   "execution_count": 36,
   "metadata": {},
   "outputs": [
    {
     "name": "stdout",
     "output_type": "stream",
     "text": [
      "Train on 10752 samples, validate on 2688 samples\n",
      "Epoch 1/30\n",
      "10624/10752 [============================>.] - ETA: 0s - loss: 2.8324 - acc: 0.1779\n",
      "Epoch 00001: val_loss improved from inf to 1.93445, saving model to HACR_CNN.cnn_model.best.hdf5\n",
      "10752/10752 [==============================] - 11s 994us/step - loss: 2.8225 - acc: 0.1801 - val_loss: 1.9345 - val_acc: 0.3888\n",
      "Epoch 2/30\n",
      "10624/10752 [============================>.] - ETA: 0s - loss: 1.8344 - acc: 0.3944\n",
      "Epoch 00002: val_loss improved from 1.93445 to 1.33868, saving model to HACR_CNN.cnn_model.best.hdf5\n",
      "10752/10752 [==============================] - 9s 842us/step - loss: 1.8302 - acc: 0.3957 - val_loss: 1.3387 - val_acc: 0.5350\n",
      "Epoch 3/30\n",
      "10624/10752 [============================>.] - ETA: 0s - loss: 1.4579 - acc: 0.4930\n",
      "Epoch 00003: val_loss improved from 1.33868 to 1.11256, saving model to HACR_CNN.cnn_model.best.hdf5\n",
      "10752/10752 [==============================] - 9s 825us/step - loss: 1.4552 - acc: 0.4934 - val_loss: 1.1126 - val_acc: 0.6131\n",
      "Epoch 4/30\n",
      "10624/10752 [============================>.] - ETA: 0s - loss: 1.2422 - acc: 0.5601\n",
      "Epoch 00004: val_loss improved from 1.11256 to 1.00963, saving model to HACR_CNN.cnn_model.best.hdf5\n",
      "10752/10752 [==============================] - 9s 821us/step - loss: 1.2403 - acc: 0.5608 - val_loss: 1.0096 - val_acc: 0.6239\n",
      "Epoch 5/30\n",
      "10624/10752 [============================>.] - ETA: 0s - loss: 1.1074 - acc: 0.5973\n",
      "Epoch 00005: val_loss improved from 1.00963 to 0.92041, saving model to HACR_CNN.cnn_model.best.hdf5\n",
      "10752/10752 [==============================] - 9s 806us/step - loss: 1.1083 - acc: 0.5967 - val_loss: 0.9204 - val_acc: 0.6600\n",
      "Epoch 6/30\n",
      "10624/10752 [============================>.] - ETA: 0s - loss: 1.0069 - acc: 0.6430\n",
      "Epoch 00006: val_loss improved from 0.92041 to 0.87723, saving model to HACR_CNN.cnn_model.best.hdf5\n",
      "10752/10752 [==============================] - 9s 800us/step - loss: 1.0060 - acc: 0.6436 - val_loss: 0.8772 - val_acc: 0.6823\n",
      "Epoch 7/30\n",
      "10624/10752 [============================>.] - ETA: 0s - loss: 0.9383 - acc: 0.6571\n",
      "Epoch 00007: val_loss improved from 0.87723 to 0.84754, saving model to HACR_CNN.cnn_model.best.hdf5\n",
      "10752/10752 [==============================] - 9s 796us/step - loss: 0.9371 - acc: 0.6570 - val_loss: 0.8475 - val_acc: 0.6946\n",
      "Epoch 8/30\n",
      "10624/10752 [============================>.] - ETA: 0s - loss: 0.8891 - acc: 0.6806\n",
      "Epoch 00008: val_loss improved from 0.84754 to 0.80849, saving model to HACR_CNN.cnn_model.best.hdf5\n",
      "10752/10752 [==============================] - 9s 793us/step - loss: 0.8888 - acc: 0.6810 - val_loss: 0.8085 - val_acc: 0.7080\n",
      "Epoch 9/30\n",
      "10624/10752 [============================>.] - ETA: 0s - loss: 0.8255 - acc: 0.6996\n",
      "Epoch 00009: val_loss improved from 0.80849 to 0.77202, saving model to HACR_CNN.cnn_model.best.hdf5\n",
      "10752/10752 [==============================] - 9s 815us/step - loss: 0.8272 - acc: 0.6988 - val_loss: 0.7720 - val_acc: 0.7184\n",
      "Epoch 10/30\n",
      "10624/10752 [============================>.] - ETA: 0s - loss: 0.7856 - acc: 0.7172\n",
      "Epoch 00010: val_loss did not improve\n",
      "10752/10752 [==============================] - 9s 805us/step - loss: 0.7854 - acc: 0.7171 - val_loss: 0.7908 - val_acc: 0.7132\n",
      "Epoch 11/30\n",
      "10624/10752 [============================>.] - ETA: 0s - loss: 0.7328 - acc: 0.7364- ETA: 4s - loss: 0.7306 - a - ETA:\n",
      "Epoch 00011: val_loss improved from 0.77202 to 0.71366, saving model to HACR_CNN.cnn_model.best.hdf5\n",
      "10752/10752 [==============================] - 9s 800us/step - loss: 0.7321 - acc: 0.7364 - val_loss: 0.7137 - val_acc: 0.7452\n",
      "Epoch 12/30\n",
      "10624/10752 [============================>.] - ETA: 0s - loss: 0.7109 - acc: 0.7459\n",
      "Epoch 00012: val_loss did not improve\n",
      "10752/10752 [==============================] - 9s 824us/step - loss: 0.7106 - acc: 0.7455 - val_loss: 0.7555 - val_acc: 0.7396\n",
      "Epoch 13/30\n",
      "10624/10752 [============================>.] - ETA: 0s - loss: 0.6955 - acc: 0.7498\n",
      "Epoch 00013: val_loss improved from 0.71366 to 0.65574, saving model to HACR_CNN.cnn_model.best.hdf5\n",
      "10752/10752 [==============================] - 9s 827us/step - loss: 0.6956 - acc: 0.7499 - val_loss: 0.6557 - val_acc: 0.7604\n",
      "Epoch 14/30\n",
      "10624/10752 [============================>.] - ETA: 0s - loss: 0.6550 - acc: 0.7654\n",
      "Epoch 00014: val_loss improved from 0.65574 to 0.65230, saving model to HACR_CNN.cnn_model.best.hdf5\n",
      "10752/10752 [==============================] - 9s 868us/step - loss: 0.6551 - acc: 0.7650 - val_loss: 0.6523 - val_acc: 0.7671\n",
      "Epoch 15/30\n",
      "10624/10752 [============================>.] - ETA: 0s - loss: 0.6358 - acc: 0.7704\n",
      "Epoch 00015: val_loss did not improve\n",
      "10752/10752 [==============================] - 9s 814us/step - loss: 0.6368 - acc: 0.7703 - val_loss: 0.7093 - val_acc: 0.7493\n",
      "Epoch 16/30\n",
      "10624/10752 [============================>.] - ETA: 0s - loss: 0.5955 - acc: 0.7852\n",
      "Epoch 00016: val_loss did not improve\n",
      "10752/10752 [==============================] - 9s 835us/step - loss: 0.5954 - acc: 0.7853 - val_loss: 0.6651 - val_acc: 0.7467\n",
      "Epoch 17/30\n",
      "10624/10752 [============================>.] - ETA: 0s - loss: 0.5918 - acc: 0.7895\n",
      "Epoch 00017: val_loss did not improve\n",
      "10752/10752 [==============================] - 9s 819us/step - loss: 0.5913 - acc: 0.7899 - val_loss: 0.7122 - val_acc: 0.7574\n",
      "Epoch 18/30\n",
      "10624/10752 [============================>.] - ETA: 0s - loss: 0.5742 - acc: 0.7887\n",
      "Epoch 00018: val_loss did not improve\n",
      "10752/10752 [==============================] - 11s 988us/step - loss: 0.5739 - acc: 0.7889 - val_loss: 0.6532 - val_acc: 0.7790\n",
      "Epoch 19/30\n",
      "10624/10752 [============================>.] - ETA: 0s - loss: 0.5504 - acc: 0.8012\n",
      "Epoch 00019: val_loss improved from 0.65230 to 0.60478, saving model to HACR_CNN.cnn_model.best.hdf5\n",
      "10752/10752 [==============================] - 9s 847us/step - loss: 0.5497 - acc: 0.8014 - val_loss: 0.6048 - val_acc: 0.7924\n",
      "Epoch 20/30\n",
      "10624/10752 [============================>.] - ETA: 0s - loss: 0.5403 - acc: 0.8067\n",
      "Epoch 00020: val_loss did not improve\n",
      "10752/10752 [==============================] - 9s 833us/step - loss: 0.5403 - acc: 0.8062 - val_loss: 0.6298 - val_acc: 0.7753\n",
      "Epoch 21/30\n",
      "10624/10752 [============================>.] - ETA: 0s - loss: 0.5282 - acc: 0.8083\n",
      "Epoch 00021: val_loss improved from 0.60478 to 0.60359, saving model to HACR_CNN.cnn_model.best.hdf5\n",
      "10752/10752 [==============================] - 9s 809us/step - loss: 0.5281 - acc: 0.8086 - val_loss: 0.6036 - val_acc: 0.7876\n",
      "Epoch 22/30\n",
      "10624/10752 [============================>.] - ETA: 0s - loss: 0.5160 - acc: 0.8108\n",
      "Epoch 00022: val_loss did not improve\n",
      "10752/10752 [==============================] - 9s 806us/step - loss: 0.5164 - acc: 0.8109 - val_loss: 0.6503 - val_acc: 0.7842\n",
      "Epoch 23/30\n",
      "10624/10752 [============================>.] - ETA: 0s - loss: 0.5071 - acc: 0.8154\n",
      "Epoch 00023: val_loss did not improve\n",
      "10752/10752 [==============================] - 8s 789us/step - loss: 0.5072 - acc: 0.8152 - val_loss: 0.6221 - val_acc: 0.7831\n",
      "Epoch 24/30\n",
      "10624/10752 [============================>.] - ETA: 0s - loss: 0.5001 - acc: 0.8213\n",
      "Epoch 00024: val_loss did not improve\n",
      "10752/10752 [==============================] - 9s 795us/step - loss: 0.5003 - acc: 0.8213 - val_loss: 0.7024 - val_acc: 0.7630\n",
      "Epoch 25/30\n",
      "10624/10752 [============================>.] - ETA: 0s - loss: 0.4780 - acc: 0.8253\n",
      "Epoch 00025: val_loss improved from 0.60359 to 0.57588, saving model to HACR_CNN.cnn_model.best.hdf5\n",
      "10752/10752 [==============================] - 9s 793us/step - loss: 0.4785 - acc: 0.8256 - val_loss: 0.5759 - val_acc: 0.8032\n",
      "Epoch 26/30\n",
      "10624/10752 [============================>.] - ETA: 0s - loss: 0.4656 - acc: 0.8317\n",
      "Epoch 00026: val_loss did not improve\n",
      "10752/10752 [==============================] - 8s 778us/step - loss: 0.4647 - acc: 0.8317 - val_loss: 0.5849 - val_acc: 0.8025\n",
      "Epoch 27/30\n",
      "10624/10752 [============================>.] - ETA: 0s - loss: 0.4553 - acc: 0.8378\n",
      "Epoch 00027: val_loss did not improve\n",
      "10752/10752 [==============================] - 8s 785us/step - loss: 0.4547 - acc: 0.8380 - val_loss: 0.6090 - val_acc: 0.7991\n",
      "Epoch 28/30\n",
      "10624/10752 [============================>.] - ETA: 0s - loss: 0.4573 - acc: 0.8395\n",
      "Epoch 00028: val_loss improved from 0.57588 to 0.54621, saving model to HACR_CNN.cnn_model.best.hdf5\n",
      "10752/10752 [==============================] - 8s 783us/step - loss: 0.4594 - acc: 0.8385 - val_loss: 0.5462 - val_acc: 0.8151\n"
     ]
    },
    {
     "name": "stdout",
     "output_type": "stream",
     "text": [
      "Epoch 29/30\n",
      "10624/10752 [============================>.] - ETA: 0s - loss: 0.4389 - acc: 0.8404\n",
      "Epoch 00029: val_loss did not improve\n",
      "10752/10752 [==============================] - 8s 770us/step - loss: 0.4391 - acc: 0.8403 - val_loss: 0.5598 - val_acc: 0.8069\n",
      "Epoch 30/30\n",
      "10624/10752 [============================>.] - ETA: 0s - loss: 0.4445 - acc: 0.8402\n",
      "Epoch 00030: val_loss did not improve\n",
      "10752/10752 [==============================] - 8s 774us/step - loss: 0.4437 - acc: 0.8403 - val_loss: 0.5471 - val_acc: 0.8155\n"
     ]
    }
   ],
   "source": [
    "from keras.callbacks import ModelCheckpoint   \n",
    "\n",
    "# train the model\n",
    "checkpointer = ModelCheckpoint(filepath='HACR_CNN.cnn_model.best.hdf5',\n",
    "                               verbose=1, save_best_only=True)\n",
    "hist = cnn_model.fit(x_train_reshape, y_train_encoded, batch_size=128, epochs=30, \n",
    "                     validation_split=0.2, callbacks=[checkpointer], verbose=1, shuffle=True)"
   ]
  },
  {
   "cell_type": "markdown",
   "metadata": {},
   "source": [
    "## Load the Model with the Best Classification Accuracy on the Validation Set"
   ]
  },
  {
   "cell_type": "code",
   "execution_count": 31,
   "metadata": {},
   "outputs": [],
   "source": [
    "# load the weights that yielded the best validation accuracy\n",
    "cnn_model.load_weights('HACR_CNN.cnn_model.best.hdf5')"
   ]
  },
  {
   "cell_type": "markdown",
   "metadata": {},
   "source": [
    "## Calculate the Classification Accuracy on the Test Set"
   ]
  },
  {
   "cell_type": "code",
   "execution_count": 32,
   "metadata": {},
   "outputs": [
    {
     "name": "stdout",
     "output_type": "stream",
     "text": [
      "Test accuracy: 86.0417%\n"
     ]
    }
   ],
   "source": [
    "# evaluate test accuracy\n",
    "score = cnn_model.evaluate(x_test_reshape, y_test_encoded, verbose=0)\n",
    "accuracy = 100*score[1]\n",
    "accuracy_values['CNN'] = accuracy\n",
    "# print test accuracy\n",
    "print('Test accuracy: %.4f%%' % accuracy)"
   ]
  },
  {
   "cell_type": "markdown",
   "metadata": {},
   "source": [
    "# Results"
   ]
  },
  {
   "cell_type": "code",
   "execution_count": 42,
   "metadata": {},
   "outputs": [
    {
     "data": {
      "image/png": "[encoded data removed]",
      "text/plain": [
       "<matplotlib.figure.Figure at 0x7f6982f25eb8>"
      ]
     },
     "metadata": {},
     "output_type": "display_data"
    }
   ],
   "source": [
    "plt.figure(figsize=(10, 5))\n",
    "x = list(range(6))\n",
    "y = np.ones(6)*73.4\n",
    "plt.plot(x, y, color='r', label=\"Benchmark Accuracy\")\n",
    "plt.legend()\n",
    "plt.bar(x, accuracy_values.values())\n",
    "plt.xticks(x, accuracy_values.keys())\n",
    "plt.xlabel('Algorithms')\n",
    "plt.ylabel('Accuracy %')\n",
    "plt.show()"
   ]
  },
  {
   "cell_type": "markdown",
   "metadata": {},
   "source": [
    "# Model Evaluation\n",
    "## Confusion On test set"
   ]
  },
  {
   "cell_type": "code",
   "execution_count": 33,
   "metadata": {},
   "outputs": [
    {
     "name": "stdout",
     "output_type": "stream",
     "text": [
      "There are 469 confusion sample\n"
     ]
    },
    {
     "data": {
      "text/html": [
       "<div>\n",
       "<style scoped>\n",
       "    .dataframe tbody tr th:only-of-type {\n",
       "        vertical-align: middle;\n",
       "    }\n",
       "\n",
       "    .dataframe tbody tr th {\n",
       "        vertical-align: top;\n",
       "    }\n",
       "\n",
       "    .dataframe thead th {\n",
       "        text-align: right;\n",
       "    }\n",
       "</style>\n",
       "<table border=\"1\" class=\"dataframe\">\n",
       "  <thead>\n",
       "    <tr style=\"text-align: right;\">\n",
       "      <th></th>\n",
       "      <th>pred_label</th>\n",
       "      <th>true_letter</th>\n",
       "      <th>pred_letter</th>\n",
       "    </tr>\n",
       "    <tr>\n",
       "      <th>true_label</th>\n",
       "      <th></th>\n",
       "      <th></th>\n",
       "      <th></th>\n",
       "    </tr>\n",
       "  </thead>\n",
       "  <tbody>\n",
       "    <tr>\n",
       "      <th>taa</th>\n",
       "      <td>thaa</td>\n",
       "      <td>ت</td>\n",
       "      <td>ث</td>\n",
       "    </tr>\n",
       "    <tr>\n",
       "      <th>haa</th>\n",
       "      <td>khaa</td>\n",
       "      <td>ح</td>\n",
       "      <td>خ</td>\n",
       "    </tr>\n",
       "    <tr>\n",
       "      <th>raa</th>\n",
       "      <td>zay</td>\n",
       "      <td>ر</td>\n",
       "      <td>ز</td>\n",
       "    </tr>\n",
       "    <tr>\n",
       "      <th>ttaa</th>\n",
       "      <td>zaa</td>\n",
       "      <td>ط</td>\n",
       "      <td>ظ</td>\n",
       "    </tr>\n",
       "    <tr>\n",
       "      <th>qaf</th>\n",
       "      <td>sheen</td>\n",
       "      <td>ق</td>\n",
       "      <td>ش</td>\n",
       "    </tr>\n",
       "    <tr>\n",
       "      <th>khaa</th>\n",
       "      <td>haa</td>\n",
       "      <td>خ</td>\n",
       "      <td>ح</td>\n",
       "    </tr>\n",
       "    <tr>\n",
       "      <th>khaa</th>\n",
       "      <td>haa</td>\n",
       "      <td>خ</td>\n",
       "      <td>ح</td>\n",
       "    </tr>\n",
       "    <tr>\n",
       "      <th>thal</th>\n",
       "      <td>ttaa</td>\n",
       "      <td>ذ</td>\n",
       "      <td>ط</td>\n",
       "    </tr>\n",
       "    <tr>\n",
       "      <th>ain</th>\n",
       "      <td>ghain</td>\n",
       "      <td>ع</td>\n",
       "      <td>غ</td>\n",
       "    </tr>\n",
       "    <tr>\n",
       "      <th>taa</th>\n",
       "      <td>thaa</td>\n",
       "      <td>ت</td>\n",
       "      <td>ث</td>\n",
       "    </tr>\n",
       "    <tr>\n",
       "      <th>khaa</th>\n",
       "      <td>ghain</td>\n",
       "      <td>خ</td>\n",
       "      <td>غ</td>\n",
       "    </tr>\n",
       "    <tr>\n",
       "      <th>thal</th>\n",
       "      <td>zay</td>\n",
       "      <td>ذ</td>\n",
       "      <td>ز</td>\n",
       "    </tr>\n",
       "    <tr>\n",
       "      <th>ain</th>\n",
       "      <td>khaa</td>\n",
       "      <td>ع</td>\n",
       "      <td>خ</td>\n",
       "    </tr>\n",
       "    <tr>\n",
       "      <th>ghain</th>\n",
       "      <td>ain</td>\n",
       "      <td>غ</td>\n",
       "      <td>ع</td>\n",
       "    </tr>\n",
       "    <tr>\n",
       "      <th>lam</th>\n",
       "      <td>noon</td>\n",
       "      <td>ل</td>\n",
       "      <td>ن</td>\n",
       "    </tr>\n",
       "    <tr>\n",
       "      <th>alef</th>\n",
       "      <td>jeem</td>\n",
       "      <td>أ</td>\n",
       "      <td>ج</td>\n",
       "    </tr>\n",
       "    <tr>\n",
       "      <th>jeem</th>\n",
       "      <td>haa</td>\n",
       "      <td>ج</td>\n",
       "      <td>ح</td>\n",
       "    </tr>\n",
       "    <tr>\n",
       "      <th>ain</th>\n",
       "      <td>ghain</td>\n",
       "      <td>ع</td>\n",
       "      <td>غ</td>\n",
       "    </tr>\n",
       "    <tr>\n",
       "      <th>faa</th>\n",
       "      <td>qaf</td>\n",
       "      <td>ف</td>\n",
       "      <td>ق</td>\n",
       "    </tr>\n",
       "    <tr>\n",
       "      <th>faa</th>\n",
       "      <td>qaf</td>\n",
       "      <td>ف</td>\n",
       "      <td>ق</td>\n",
       "    </tr>\n",
       "    <tr>\n",
       "      <th>qaf</th>\n",
       "      <td>seen</td>\n",
       "      <td>ق</td>\n",
       "      <td>س</td>\n",
       "    </tr>\n",
       "    <tr>\n",
       "      <th>kaf</th>\n",
       "      <td>noon</td>\n",
       "      <td>ك</td>\n",
       "      <td>ن</td>\n",
       "    </tr>\n",
       "    <tr>\n",
       "      <th>noon</th>\n",
       "      <td>taa</td>\n",
       "      <td>ن</td>\n",
       "      <td>ت</td>\n",
       "    </tr>\n",
       "    <tr>\n",
       "      <th>taa</th>\n",
       "      <td>thaa</td>\n",
       "      <td>ت</td>\n",
       "      <td>ث</td>\n",
       "    </tr>\n",
       "    <tr>\n",
       "      <th>khaa</th>\n",
       "      <td>ghain</td>\n",
       "      <td>خ</td>\n",
       "      <td>غ</td>\n",
       "    </tr>\n",
       "    <tr>\n",
       "      <th>dal</th>\n",
       "      <td>thal</td>\n",
       "      <td>د</td>\n",
       "      <td>ذ</td>\n",
       "    </tr>\n",
       "    <tr>\n",
       "      <th>thal</th>\n",
       "      <td>zay</td>\n",
       "      <td>ذ</td>\n",
       "      <td>ز</td>\n",
       "    </tr>\n",
       "    <tr>\n",
       "      <th>ghain</th>\n",
       "      <td>khaa</td>\n",
       "      <td>غ</td>\n",
       "      <td>خ</td>\n",
       "    </tr>\n",
       "    <tr>\n",
       "      <th>faa</th>\n",
       "      <td>qaf</td>\n",
       "      <td>ف</td>\n",
       "      <td>ق</td>\n",
       "    </tr>\n",
       "    <tr>\n",
       "      <th>qaf</th>\n",
       "      <td>dad</td>\n",
       "      <td>ق</td>\n",
       "      <td>ض</td>\n",
       "    </tr>\n",
       "    <tr>\n",
       "      <th>...</th>\n",
       "      <td>...</td>\n",
       "      <td>...</td>\n",
       "      <td>...</td>\n",
       "    </tr>\n",
       "    <tr>\n",
       "      <th>haa</th>\n",
       "      <td>khaa</td>\n",
       "      <td>ح</td>\n",
       "      <td>خ</td>\n",
       "    </tr>\n",
       "    <tr>\n",
       "      <th>zaa</th>\n",
       "      <td>dad</td>\n",
       "      <td>ظ</td>\n",
       "      <td>ض</td>\n",
       "    </tr>\n",
       "    <tr>\n",
       "      <th>ain</th>\n",
       "      <td>ghain</td>\n",
       "      <td>ع</td>\n",
       "      <td>غ</td>\n",
       "    </tr>\n",
       "    <tr>\n",
       "      <th>ain</th>\n",
       "      <td>ghain</td>\n",
       "      <td>ع</td>\n",
       "      <td>غ</td>\n",
       "    </tr>\n",
       "    <tr>\n",
       "      <th>faa</th>\n",
       "      <td>taa</td>\n",
       "      <td>ف</td>\n",
       "      <td>ت</td>\n",
       "    </tr>\n",
       "    <tr>\n",
       "      <th>noon</th>\n",
       "      <td>ttaa</td>\n",
       "      <td>ن</td>\n",
       "      <td>ط</td>\n",
       "    </tr>\n",
       "    <tr>\n",
       "      <th>haa</th>\n",
       "      <td>zaa</td>\n",
       "      <td>هـ</td>\n",
       "      <td>ظ</td>\n",
       "    </tr>\n",
       "    <tr>\n",
       "      <th>waw</th>\n",
       "      <td>kaf</td>\n",
       "      <td>و</td>\n",
       "      <td>ك</td>\n",
       "    </tr>\n",
       "    <tr>\n",
       "      <th>taa</th>\n",
       "      <td>noon</td>\n",
       "      <td>ت</td>\n",
       "      <td>ن</td>\n",
       "    </tr>\n",
       "    <tr>\n",
       "      <th>thaa</th>\n",
       "      <td>noon</td>\n",
       "      <td>ث</td>\n",
       "      <td>ن</td>\n",
       "    </tr>\n",
       "    <tr>\n",
       "      <th>thaa</th>\n",
       "      <td>taa</td>\n",
       "      <td>ث</td>\n",
       "      <td>ت</td>\n",
       "    </tr>\n",
       "    <tr>\n",
       "      <th>jeem</th>\n",
       "      <td>haa</td>\n",
       "      <td>ج</td>\n",
       "      <td>ح</td>\n",
       "    </tr>\n",
       "    <tr>\n",
       "      <th>thal</th>\n",
       "      <td>dal</td>\n",
       "      <td>ذ</td>\n",
       "      <td>د</td>\n",
       "    </tr>\n",
       "    <tr>\n",
       "      <th>ain</th>\n",
       "      <td>khaa</td>\n",
       "      <td>ع</td>\n",
       "      <td>خ</td>\n",
       "    </tr>\n",
       "    <tr>\n",
       "      <th>ain</th>\n",
       "      <td>khaa</td>\n",
       "      <td>ع</td>\n",
       "      <td>خ</td>\n",
       "    </tr>\n",
       "    <tr>\n",
       "      <th>ghain</th>\n",
       "      <td>ain</td>\n",
       "      <td>غ</td>\n",
       "      <td>ع</td>\n",
       "    </tr>\n",
       "    <tr>\n",
       "      <th>ghain</th>\n",
       "      <td>khaa</td>\n",
       "      <td>غ</td>\n",
       "      <td>خ</td>\n",
       "    </tr>\n",
       "    <tr>\n",
       "      <th>faa</th>\n",
       "      <td>sad</td>\n",
       "      <td>ف</td>\n",
       "      <td>ص</td>\n",
       "    </tr>\n",
       "    <tr>\n",
       "      <th>faa</th>\n",
       "      <td>dad</td>\n",
       "      <td>ف</td>\n",
       "      <td>ض</td>\n",
       "    </tr>\n",
       "    <tr>\n",
       "      <th>haa</th>\n",
       "      <td>ttaa</td>\n",
       "      <td>هـ</td>\n",
       "      <td>ط</td>\n",
       "    </tr>\n",
       "    <tr>\n",
       "      <th>waw</th>\n",
       "      <td>haa</td>\n",
       "      <td>و</td>\n",
       "      <td>هـ</td>\n",
       "    </tr>\n",
       "    <tr>\n",
       "      <th>yaa</th>\n",
       "      <td>seen</td>\n",
       "      <td>ي</td>\n",
       "      <td>س</td>\n",
       "    </tr>\n",
       "    <tr>\n",
       "      <th>yaa</th>\n",
       "      <td>sad</td>\n",
       "      <td>ي</td>\n",
       "      <td>ص</td>\n",
       "    </tr>\n",
       "    <tr>\n",
       "      <th>thaa</th>\n",
       "      <td>taa</td>\n",
       "      <td>ث</td>\n",
       "      <td>ت</td>\n",
       "    </tr>\n",
       "    <tr>\n",
       "      <th>jeem</th>\n",
       "      <td>haa</td>\n",
       "      <td>ج</td>\n",
       "      <td>ح</td>\n",
       "    </tr>\n",
       "    <tr>\n",
       "      <th>seen</th>\n",
       "      <td>sad</td>\n",
       "      <td>س</td>\n",
       "      <td>ص</td>\n",
       "    </tr>\n",
       "    <tr>\n",
       "      <th>sheen</th>\n",
       "      <td>dad</td>\n",
       "      <td>ش</td>\n",
       "      <td>ض</td>\n",
       "    </tr>\n",
       "    <tr>\n",
       "      <th>faa</th>\n",
       "      <td>haa</td>\n",
       "      <td>ف</td>\n",
       "      <td>هـ</td>\n",
       "    </tr>\n",
       "    <tr>\n",
       "      <th>noon</th>\n",
       "      <td>taa</td>\n",
       "      <td>ن</td>\n",
       "      <td>ت</td>\n",
       "    </tr>\n",
       "    <tr>\n",
       "      <th>noon</th>\n",
       "      <td>yaa</td>\n",
       "      <td>ن</td>\n",
       "      <td>ي</td>\n",
       "    </tr>\n",
       "  </tbody>\n",
       "</table>\n",
       "<p>469 rows × 3 columns</p>\n",
       "</div>"
      ],
      "text/plain": [
       "           pred_label true_letter pred_letter\n",
       "true_label                                   \n",
       "taa              thaa           ت           ث\n",
       "haa              khaa           ح           خ\n",
       "raa               zay           ر           ز\n",
       "ttaa              zaa           ط           ظ\n",
       "qaf             sheen           ق           ش\n",
       "khaa              haa           خ           ح\n",
       "khaa              haa           خ           ح\n",
       "thal             ttaa           ذ           ط\n",
       "ain             ghain           ع           غ\n",
       "taa              thaa           ت           ث\n",
       "khaa            ghain           خ           غ\n",
       "thal              zay           ذ           ز\n",
       "ain              khaa           ع           خ\n",
       "ghain             ain           غ           ع\n",
       "lam              noon           ل           ن\n",
       "alef             jeem           أ           ج\n",
       "jeem              haa           ج           ح\n",
       "ain             ghain           ع           غ\n",
       "faa               qaf           ف           ق\n",
       "faa               qaf           ف           ق\n",
       "qaf              seen           ق           س\n",
       "kaf              noon           ك           ن\n",
       "noon              taa           ن           ت\n",
       "taa              thaa           ت           ث\n",
       "khaa            ghain           خ           غ\n",
       "dal              thal           د           ذ\n",
       "thal              zay           ذ           ز\n",
       "ghain            khaa           غ           خ\n",
       "faa               qaf           ف           ق\n",
       "qaf               dad           ق           ض\n",
       "...               ...         ...         ...\n",
       "haa              khaa           ح           خ\n",
       "zaa               dad           ظ           ض\n",
       "ain             ghain           ع           غ\n",
       "ain             ghain           ع           غ\n",
       "faa               taa           ف           ت\n",
       "noon             ttaa           ن           ط\n",
       "haa               zaa          هـ           ظ\n",
       "waw               kaf           و           ك\n",
       "taa              noon           ت           ن\n",
       "thaa             noon           ث           ن\n",
       "thaa              taa           ث           ت\n",
       "jeem              haa           ج           ح\n",
       "thal              dal           ذ           د\n",
       "ain              khaa           ع           خ\n",
       "ain              khaa           ع           خ\n",
       "ghain             ain           غ           ع\n",
       "ghain            khaa           غ           خ\n",
       "faa               sad           ف           ص\n",
       "faa               dad           ف           ض\n",
       "haa              ttaa          هـ           ط\n",
       "waw               haa           و          هـ\n",
       "yaa              seen           ي           س\n",
       "yaa               sad           ي           ص\n",
       "thaa              taa           ث           ت\n",
       "jeem              haa           ج           ح\n",
       "seen              sad           س           ص\n",
       "sheen             dad           ش           ض\n",
       "faa               haa           ف          هـ\n",
       "noon              taa           ن           ت\n",
       "noon              yaa           ن           ي\n",
       "\n",
       "[469 rows x 3 columns]"
      ]
     },
     "metadata": {},
     "output_type": "display_data"
    }
   ],
   "source": [
    "y_test_pred = np.argmax(cnn_model.predict(x_test_reshape), axis=1)\n",
    "confusion = np.array([y_test != y_test_pred+1]).reshape(y_test.shape)\n",
    "print('There are', confusion.sum(),'confusion sample')\n",
    "confusion_df = pd.DataFrame()\n",
    "confusion_df['true_label'] = [arabic_labels[i-1] for i in y_test[confusion]]\n",
    "confusion_df['pred_label'] = [arabic_labels[i] for i in y_test_pred[confusion]]\n",
    "confusion_df['true_letter'] = [arabic_letters[i-1] for i in y_test[confusion]]\n",
    "confusion_df['pred_letter'] = [arabic_letters[i] for i in y_test_pred[confusion]]\n",
    "from IPython.display import display\n",
    "display(confusion_df.set_index('true_label'))"
   ]
  },
  {
   "cell_type": "code",
   "execution_count": 34,
   "metadata": {},
   "outputs": [
    {
     "data": {
      "image/png": "[encoded data removed]",
      "text/plain": [
       "<matplotlib.figure.Figure at 0x7fbb813a0c50>"
      ]
     },
     "metadata": {},
     "output_type": "display_data"
    }
   ],
   "source": [
    "plt.figure(figsize=(15, 5))\n",
    "plt.hist(confusion_df['true_letter'], alpha=0.6, label= \"True letter\")\n",
    "plt.hist(confusion_df['pred_letter'], color='r', alpha=0.2, label='Predicted Letter')\n",
    "plt.legend()\n",
    "plt.xlabel('Letters')\n",
    "plt.ylabel('Freq. wrong classified')\n",
    "plt.show()"
   ]
  },
  {
   "cell_type": "markdown",
   "metadata": {},
   "source": [
    "## Confusion Visualization"
   ]
  },
  {
   "cell_type": "code",
   "execution_count": 30,
   "metadata": {},
   "outputs": [
    {
     "data": {
      "image/png": "[encoded data removed]",
      "text/plain": [
       "<matplotlib.figure.Figure at 0x7f5770560128>"
      ]
     },
     "metadata": {},
     "output_type": "display_data"
    },
    {
     "name": "stdout",
     "output_type": "stream",
     "text": [
      "This image predicted as letter  seen  =  س\n",
      "And that is right\n"
     ]
    },
    {
     "data": {
      "image/png": "[encoded data removed]",
      "text/plain": [
       "<matplotlib.figure.Figure at 0x7f577056c748>"
      ]
     },
     "metadata": {},
     "output_type": "display_data"
    },
    {
     "name": "stdout",
     "output_type": "stream",
     "text": [
      "This image predicted as letter  ghain  =  غ\n",
      "And that is right\n"
     ]
    },
    {
     "data": {
      "image/png": "[encoded data removed]",
      "text/plain": [
       "<matplotlib.figure.Figure at 0x7f5770522940>"
      ]
     },
     "metadata": {},
     "output_type": "display_data"
    },
    {
     "name": "stdout",
     "output_type": "stream",
     "text": [
      "This image predicted as letter  sad  =  ص\n",
      "But sorry that is wrong\n"
     ]
    },
    {
     "data": {
      "image/png": "[encoded data removed]",
      "text/plain": [
       "<matplotlib.figure.Figure at 0x7f5799b6cda0>"
      ]
     },
     "metadata": {},
     "output_type": "display_data"
    },
    {
     "name": "stdout",
     "output_type": "stream",
     "text": [
      "This image predicted as letter  kaf  =  ك\n",
      "And that is right\n"
     ]
    },
    {
     "data": {
      "image/png": "[encoded data removed]",
      "text/plain": [
       "<matplotlib.figure.Figure at 0x7f57704f3198>"
      ]
     },
     "metadata": {},
     "output_type": "display_data"
    },
    {
     "name": "stdout",
     "output_type": "stream",
     "text": [
      "This image predicted as letter  faa  =  ف\n",
      "But sorry that is wrong\n"
     ]
    },
    {
     "data": {
      "image/png": "[encoded data removed]",
      "text/plain": [
       "<matplotlib.figure.Figure at 0x7f57704dedd8>"
      ]
     },
     "metadata": {},
     "output_type": "display_data"
    },
    {
     "name": "stdout",
     "output_type": "stream",
     "text": [
      "This image predicted as letter  sad  =  ص\n",
      "And that is right\n"
     ]
    }
   ],
   "source": [
    "random_imgs = np.random.randint(x_test.shape[0], size=6)\n",
    "for i in random_imgs:\n",
    "    img = x_test_reshape[i]\n",
    "    # show image\n",
    "    plt.imshow(img.squeeze().T)\n",
    "    plt.show()\n",
    "    img = img.reshape(1, 32, 32)\n",
    "    pred_matrix = cnn_model.predict(img)\n",
    "    pred = np.argmax(pred_matrix)\n",
    "    #print(pred)\n",
    "    #print(pred_matrix)\n",
    "    print (\"This image predicted as letter \", arabic_labels[pred], ' = ', arabic_letters[pred])\n",
    "    # Check if predicted label equal to the True label\n",
    "    if pred+1 == y_test[i]:\n",
    "        print(\"And that is right\")\n",
    "    else:\n",
    "        print(\"But sorry that is wrong\")"
   ]
  },
  {
   "cell_type": "markdown",
   "metadata": {},
   "source": [
    "## On images from my computer"
   ]
  },
  {
   "cell_type": "code",
   "execution_count": 62,
   "metadata": {},
   "outputs": [
    {
     "data": {
      "image/png": "[encoded data removed]",
      "text/plain": [
       "<matplotlib.figure.Figure at 0x7f574672ce48>"
      ]
     },
     "metadata": {},
     "output_type": "display_data"
    },
    {
     "name": "stdout",
     "output_type": "stream",
     "text": [
      "This image predicted as letter  meem  =  م\n",
      "But sorry that is wrong\n"
     ]
    },
    {
     "data": {
      "image/png": "[encoded data removed]",
      "text/plain": [
       "<matplotlib.figure.Figure at 0x7f5746801d68>"
      ]
     },
     "metadata": {},
     "output_type": "display_data"
    },
    {
     "name": "stdout",
     "output_type": "stream",
     "text": [
      "This image predicted as letter  baa  =  ب\n",
      "And that is right\n"
     ]
    },
    {
     "data": {
      "image/png": "[encoded data removed]",
      "text/plain": [
       "<matplotlib.figure.Figure at 0x7f57467cf438>"
      ]
     },
     "metadata": {},
     "output_type": "display_data"
    },
    {
     "name": "stdout",
     "output_type": "stream",
     "text": [
      "This image predicted as letter  meem  =  م\n",
      "But sorry that is wrong\n"
     ]
    },
    {
     "data": {
      "image/png": "[encoded data removed]",
      "text/plain": [
       "<matplotlib.figure.Figure at 0x7f574666a860>"
      ]
     },
     "metadata": {},
     "output_type": "display_data"
    },
    {
     "name": "stdout",
     "output_type": "stream",
     "text": [
      "This image predicted as letter  ttaa  =  ط\n",
      "And that is right\n"
     ]
    },
    {
     "data": {
      "image/png": "[encoded data removed]",
      "text/plain": [
       "<matplotlib.figure.Figure at 0x7f57466c49e8>"
      ]
     },
     "metadata": {},
     "output_type": "display_data"
    },
    {
     "name": "stdout",
     "output_type": "stream",
     "text": [
      "This image predicted as letter  lam  =  ل\n",
      "And that is right\n"
     ]
    },
    {
     "data": {
      "image/png": "[encoded data removed]",
      "text/plain": [
       "<matplotlib.figure.Figure at 0x7f57466e3c88>"
      ]
     },
     "metadata": {},
     "output_type": "display_data"
    },
    {
     "name": "stdout",
     "output_type": "stream",
     "text": [
      "This image predicted as letter  haa  =  هـ\n",
      "But sorry that is wrong\n"
     ]
    }
   ],
   "source": [
    "# load path for my images\n",
    "from glob import glob\n",
    "my_imgs = np.array(glob(\"my_img/*.png\"))\n",
    "import re\n",
    "import cv2\n",
    "for path in my_imgs:\n",
    "    #path = my_imgs[0]\n",
    "    img = cv2.imread(path)\n",
    "    # convert image to gray\n",
    "    gray = cv2.cvtColor(img, cv2.COLOR_BGR2GRAY)\n",
    "    # show image\n",
    "    plt.imshow(gray.squeeze().T)\n",
    "    plt.show()\n",
    "    # Preprocessing\n",
    "    gray = normalize(gray / 255.0).reshape(1, 32, 32)\n",
    "    # predict image label\n",
    "    pred_matrix = cnn_model.predict(gray)\n",
    "    pred = np.argmax(pred_matrix)\n",
    "    #print(pred)\n",
    "    #print(pred_matrix)\n",
    "    # Show the results\n",
    "    print (\"This image predicted as letter \", arabic_labels[pred], ' = ', arabic_letters[pred])\n",
    "    # Check if predicted label equal to the True label (extacted from image name in it's path)\n",
    "    if pred == int(re.search(r\"[0-9]+\", path).group()):\n",
    "        print(\"And that is right\")\n",
    "    else:\n",
    "        print(\"But sorry that is wrong\")"
   ]
  },
  {
   "cell_type": "markdown",
   "metadata": {},
   "source": [
    "* As a result for all trials and testing the CNN model shows the best accuracy with 86% even we use a architecture.\n",
    "* The model passed the benchmark metric."
   ]
  },
  {
   "cell_type": "markdown",
   "metadata": {},
   "source": [
    "# Conclusion\n",
    "\n",
    "* The Deep Learning Convolution Neural Networks are very promised in Computer Vision and Handwritten Arabic OCR fields. Also Support Vector Machines algorithm can used in this fields as a cheaper solution with reasonable accuracy.\n",
    "* The CNN model can be improved using the power of GPUs  by using augmentation, randomization and transfer learning.  "
   ]
  },
  {
   "cell_type": "code",
   "execution_count": null,
   "metadata": {},
   "outputs": [],
   "source": []
  }
 ],
 "metadata": {
  "kernelspec": {
   "display_name": "Python 3",
   "language": "python",
   "name": "python3"
  },
  "language_info": {
   "codemirror_mode": {
    "name": "ipython",
    "version": 3
   },
   "file_extension": ".py",
   "mimetype": "text/x-python",
   "name": "python",
   "nbconvert_exporter": "python",
   "pygments_lexer": "ipython3",
   "version": "3.7.1"
  }
 },
 "nbformat": 4,
 "nbformat_minor": 2
}
